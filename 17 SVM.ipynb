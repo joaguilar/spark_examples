{
 "cells": [
  {
   "cell_type": "code",
   "execution_count": null,
   "id": "9698d0be",
   "metadata": {
    "scrolled": true
   },
   "outputs": [],
   "source": [
    "import findspark\n",
    "findspark.init('/spark-3.5.1-bin-hadoop3')\n",
    "from pyspark import *\n",
    "from pyspark.sql import SparkSession\n",
    "from pyspark.ml import Pipeline\n",
    "from pyspark.ml.feature import StringIndexer, VectorAssembler, StandardScaler\n",
    "from pyspark.ml.classification import LinearSVC\n",
    "from pyspark.ml.evaluation import BinaryClassificationEvaluator\n",
    "\n",
    "\n",
    "spark = SparkSession.builder.appName(\"analytics\").getOrCreate()"
   ]
  },
  {
   "cell_type": "markdown",
   "id": "6804647d",
   "metadata": {},
   "source": [
    "# Support Vector Machines\n",
    "\n",
    "\n",
    "## Ingestión de Datos:\n",
    "\n",
    "Los datos se cargan en un DataFrame."
   ]
  },
  {
   "cell_type": "code",
   "execution_count": null,
   "id": "f9ea8237",
   "metadata": {},
   "outputs": [],
   "source": [
    "# Cargar el dataset\n",
    "data = spark.read.csv(\"data/heart_failure_clinical_records_dataset.csv\", header=True, inferSchema=True)\n",
    "\n"
   ]
  },
  {
   "cell_type": "markdown",
   "id": "9e5a4340",
   "metadata": {},
   "source": [
    "## Exploración de Datos:"
   ]
  },
  {
   "cell_type": "code",
   "execution_count": null,
   "id": "14dcfb48",
   "metadata": {},
   "outputs": [],
   "source": [
    "data.printSchema()"
   ]
  },
  {
   "cell_type": "code",
   "execution_count": null,
   "id": "f63a892f",
   "metadata": {},
   "outputs": [],
   "source": [
    "# Mostramos las primeras filas del dataset\n",
    "data.show(5)"
   ]
  },
  {
   "cell_type": "markdown",
   "id": "b703a5a9",
   "metadata": {},
   "source": [
    "## Selección de *features*\n"
   ]
  },
  {
   "cell_type": "code",
   "execution_count": null,
   "id": "ac683b43",
   "metadata": {},
   "outputs": [],
   "source": [
    "# Seleccionamos las características que vamos a utilizar y la variable a predecir\n",
    "feature_columns = [\"age\", \"anaemia\", \"creatinine_phosphokinase\", \"diabetes\", \"ejection_fraction\", \n",
    "                   \"high_blood_pressure\", \"platelets\", \"serum_creatinine\", \"serum_sodium\", \n",
    "                   \"sex\", \"smoking\", \"time\"]\n",
    "target_column = \"DEATH_EVENT\"\n"
   ]
  },
  {
   "cell_type": "markdown",
   "id": "9d6aa119",
   "metadata": {},
   "source": [
    "## VectorAssembler, Indexers, Scalers\n",
    "\n",
    "Combina varias columnas de características en un solo vector de características, esencial para el entrenamiento del modelo."
   ]
  },
  {
   "cell_type": "code",
   "execution_count": null,
   "id": "7e1266e7",
   "metadata": {},
   "outputs": [],
   "source": [
    "assembler = VectorAssembler(inputCols=feature_columns, outputCol=\"features\")\n",
    "\n",
    "scaler = StandardScaler(inputCol=\"features\", outputCol=\"scaledFeatures\")\n",
    "\n",
    "indexer = StringIndexer(inputCol=target_column, outputCol=\"label\")"
   ]
  },
  {
   "cell_type": "markdown",
   "id": "44fb7433",
   "metadata": {},
   "source": [
    "## Modelo SVM\n"
   ]
  },
  {
   "cell_type": "code",
   "execution_count": null,
   "id": "ddd00af7",
   "metadata": {},
   "outputs": [],
   "source": [
    "svm = LinearSVC(featuresCol=\"scaledFeatures\", labelCol=\"label\")"
   ]
  },
  {
   "cell_type": "markdown",
   "id": "1b9bf707",
   "metadata": {},
   "source": [
    "## Pipeline"
   ]
  },
  {
   "cell_type": "code",
   "execution_count": null,
   "id": "5c63ebf9",
   "metadata": {},
   "outputs": [],
   "source": [
    "# Crear un pipeline con los pasos anteriores\n",
    "pipeline = Pipeline(stages=[assembler, scaler, indexer, svm])"
   ]
  },
  {
   "cell_type": "markdown",
   "id": "eed94489",
   "metadata": {},
   "source": [
    "## Entrenamiento"
   ]
  },
  {
   "cell_type": "code",
   "execution_count": null,
   "id": "a2a24573",
   "metadata": {},
   "outputs": [],
   "source": [
    "# Dividir los datos en conjuntos de entrenamiento (70%) y prueba (30%)\n",
    "datos_entrenamiento, datos_prueba = data.randomSplit([0.7, 0.3], seed=42)\n",
    "\n",
    "# Entrenar el modelo utilizando los datos de entrenamiento\n",
    "modelo = pipeline.fit(datos_entrenamiento)\n"
   ]
  },
  {
   "cell_type": "markdown",
   "id": "aa38b345",
   "metadata": {},
   "source": [
    "## Predicciones"
   ]
  },
  {
   "cell_type": "code",
   "execution_count": null,
   "id": "4f745cf8",
   "metadata": {},
   "outputs": [],
   "source": [
    "# Realizar predicciones en los datos de prueba\n",
    "predicciones = modelo.transform(datos_prueba)\n"
   ]
  },
  {
   "cell_type": "markdown",
   "id": "4b14ea9e",
   "metadata": {},
   "source": [
    "## Revisión de resultados del modelo"
   ]
  },
  {
   "cell_type": "code",
   "execution_count": null,
   "id": "888a1167",
   "metadata": {},
   "outputs": [],
   "source": [
    "# Evaluar el modelo utilizando un evaluador de clasificación binaria\n",
    "evaluador = BinaryClassificationEvaluator(labelCol=\"label\")\n",
    "exactitud = evaluador.evaluate(predicciones)\n",
    "\n",
    "print(f\"Exactitud en el conjunto de prueba: {exactitud}\")"
   ]
  },
  {
   "cell_type": "markdown",
   "id": "3cfc9edd",
   "metadata": {},
   "source": [
    "Mostrar predicciones"
   ]
  },
  {
   "cell_type": "code",
   "execution_count": null,
   "id": "27d9d260",
   "metadata": {},
   "outputs": [],
   "source": [
    "# Mostrar las predicciones junto con algunas de las características originales\n",
    "predicciones.select(\"age\", \"anaemia\", \"creatinine_phosphokinase\", \"diabetes\", \"ejection_fraction\", \n",
    "                    \"high_blood_pressure\", \"platelets\", \"serum_creatinine\", \"serum_sodium\", \n",
    "                    \"sex\", \"smoking\", \"time\", \"DEATH_EVENT\", \"prediction\").show(5)"
   ]
  },
  {
   "cell_type": "code",
   "execution_count": null,
   "id": "d26c093b",
   "metadata": {},
   "outputs": [],
   "source": []
  }
 ],
 "metadata": {
  "kernelspec": {
   "display_name": "Python 3 (ipykernel)",
   "language": "python",
   "name": "python3"
  },
  "language_info": {
   "codemirror_mode": {
    "name": "ipython",
    "version": 3
   },
   "file_extension": ".py",
   "mimetype": "text/x-python",
   "name": "python",
   "nbconvert_exporter": "python",
   "pygments_lexer": "ipython3",
   "version": "3.9.17"
  }
 },
 "nbformat": 4,
 "nbformat_minor": 5
}
