{
 "cells": [
  {
   "cell_type": "code",
   "execution_count": null,
   "id": "20bbd98f",
   "metadata": {},
   "outputs": [],
   "source": [
    "import findspark\n",
    "findspark.init('/spark/spark-3.5.1-bin-hadoop3')\n",
    "from pyspark import *\n",
    "from pyspark.sql import SparkSession\n",
    "from pyspark.sql.types import StructType,StructField, StringType, IntegerType, DateType, TimestampType, LongType\n",
    "from pyspark.sql.types import ArrayType, DoubleType, BooleanType, DecimalType\n",
    "from pyspark.sql.functions import regexp_extract, split, from_unixtime, col, avg, min, max\n",
    "from pyspark.sql.functions import grouping\n",
    "\n",
    "\n",
    "spark = SparkSession.builder.appName(\"movielens\").getOrCreate()"
   ]
  },
  {
   "attachments": {},
   "cell_type": "markdown",
   "id": "8948e7f2",
   "metadata": {},
   "source": [
    "# Consultas sobre Movielens\n",
    "\n",
    "## Schema de Movielens\n",
    "\n",
    "![Schema](movielens_schema.png)\n",
    "\n",
    "## ¿Cuántas películas calificó cada usuario?\n",
    "\n",
    "Proceso:\n",
    "\n",
    "1. Cargar la tabla ratings\n",
    "1. Cargar la tabla movies\n",
    "1. Unir ambas tablas\n",
    "1. Agrupar por usuario\n",
    "1. Contar las calificaciones\n"
   ]
  },
  {
   "cell_type": "markdown",
   "id": "5fccdbcc",
   "metadata": {},
   "source": [
    "### Cargar las tablas"
   ]
  },
  {
   "cell_type": "code",
   "execution_count": null,
   "id": "7fe3b9c3",
   "metadata": {},
   "outputs": [],
   "source": [
    "# Tabla Ratings\n",
    "ratings_schema  = StructType(fields=[\n",
    "    StructField(\"userId\",IntegerType(),True), \n",
    "    StructField(\"movieId\",IntegerType(),True),\n",
    "    StructField(\"rating\",DecimalType(precision=2,scale=1),True),\n",
    "    StructField(\"timestamp\",LongType(),True)\n",
    "])\n",
    "ratingsDf = spark.read\\\n",
    "    .option(\"header\", True)\\\n",
    "    .option(\"dateFormat\", \"yyyyMMdd\")\\\n",
    "    .schema(ratings_schema)\\\n",
    "    .csv(\"./ml-latest-small/ratings.csv\")\\\n",
    "    .withColumn(\\\n",
    "            \"date\",\\\n",
    "            from_unixtime(\"timestamp\", \"yyyyMMdd\"))\\\n",
    "                .drop('timestamp')\n",
    "\n",
    "# Tabla Movies\n",
    "movies_schema  = StructType(fields=[\n",
    "    StructField(\"movieId\",IntegerType(),True), \n",
    "    StructField(\"title\",StringType(),True),\n",
    "    StructField(\"genres\",StringType(),True)\n",
    "])\n",
    "\n",
    "moviesDf = spark.read\\\n",
    "    .option(\"header\", True)\\\n",
    "    .schema(movies_schema)\\\n",
    "    .csv(\"./ml-latest-small/movies.csv\")\n",
    "\n",
    "moviesDf = moviesDf.withColumn(\"genresSplit\", split(moviesDf[\"genres\"],\"\\|\"))\\\n",
    "                        .drop('genres').withColumnRenamed(\"genresSplit\",\"genres\")\\\n",
    "                            .withColumn(\\\n",
    "                                \"year\",\\\n",
    "                                regexp_extract(\\\n",
    "                                           moviesDf[\"title\"],\\\n",
    "                                           \"^.+\\(([0-9]+)\\)$\",\\\n",
    "                                           1)\\\n",
    "                                .cast(IntegerType()))\\\n",
    "                            .withColumn(\\\n",
    "                            \"title_temp\",\\\n",
    "                            regexp_extract(\\\n",
    "                                           moviesDf[\"title\"],\\\n",
    "                                           \"^(.+?) \\([0-9]+\\)$\",\\\n",
    "                                           1))\\\n",
    "                            .drop('title')\\\n",
    "                        .withColumnRenamed(\"title_temp\",\"title\")"
   ]
  },
  {
   "cell_type": "markdown",
   "id": "f8975088",
   "metadata": {},
   "source": [
    "### Unir Ambas tablas"
   ]
  },
  {
   "cell_type": "code",
   "execution_count": null,
   "id": "702a3769",
   "metadata": {},
   "outputs": [],
   "source": [
    "movie_ratingsDF = ratingsDf.join(moviesDf,on=\"movieId\",how=\"inner\")\n",
    "movie_ratingsDF.show()"
   ]
  },
  {
   "cell_type": "markdown",
   "id": "2baf44ca",
   "metadata": {},
   "source": [
    "### Agrupar por usuario"
   ]
  },
  {
   "cell_type": "code",
   "execution_count": null,
   "id": "60790755",
   "metadata": {},
   "outputs": [],
   "source": [
    "from pyspark.sql.functions import grouping\n",
    "\n",
    "movie_ratingsDF_grouped_by_userid = movie_ratingsDF.groupBy(\"userId\")"
   ]
  },
  {
   "cell_type": "markdown",
   "id": "b773643a",
   "metadata": {},
   "source": [
    "### Contar las calificaciones"
   ]
  },
  {
   "cell_type": "code",
   "execution_count": null,
   "id": "e25ff7ca",
   "metadata": {},
   "outputs": [],
   "source": [
    "movie_ratingsDF_grouped_by_userid.agg({\"*\": \"count\"}).collect()"
   ]
  },
  {
   "cell_type": "code",
   "execution_count": null,
   "id": "ab5ce207",
   "metadata": {
    "scrolled": true
   },
   "outputs": [],
   "source": [
    "# Alternativa: metodo count\n",
    "movie_ratingsDF_grouped_by_userid.count().show(10)"
   ]
  },
  {
   "cell_type": "markdown",
   "id": "d6915c93",
   "metadata": {},
   "source": [
    "Existen muchas funciones que se pueden utilizar en agregaciones, la lista está en [Grouping](https://spark.apache.org/docs/latest/api/python/reference/pyspark.sql/grouping.html)"
   ]
  },
  {
   "cell_type": "markdown",
   "id": "e7697f62",
   "metadata": {},
   "source": [
    "## Filtrado\n",
    "\n",
    "Podemos filtrar por cualquier columna.\n",
    "\n",
    "Filtrado por usuario:"
   ]
  },
  {
   "cell_type": "code",
   "execution_count": null,
   "id": "3a7f0dc1",
   "metadata": {
    "scrolled": true
   },
   "outputs": [],
   "source": [
    "movie_ratingsDF.filter(movie_ratingsDF.userId == 148).show()"
   ]
  },
  {
   "cell_type": "code",
   "execution_count": null,
   "id": "b68e3021",
   "metadata": {
    "scrolled": true
   },
   "outputs": [],
   "source": [
    "movie_ratingsDF.filter(\"userId = 148\").show()"
   ]
  },
  {
   "cell_type": "markdown",
   "id": "06258fc5",
   "metadata": {},
   "source": [
    "Mostrar solo ciertas columnas:"
   ]
  },
  {
   "cell_type": "code",
   "execution_count": null,
   "id": "a74df6b5",
   "metadata": {},
   "outputs": [],
   "source": [
    "movie_ratingsDF\\\n",
    "    .filter(movie_ratingsDF.userId == 148)\\\n",
    "    .select(\"userId\",\"title\")\\\n",
    "    .show()"
   ]
  },
  {
   "cell_type": "markdown",
   "id": "5ab67cb4",
   "metadata": {},
   "source": [
    "Otras formas de agregar datos:\n",
    "\n",
    "Calcular el promedio de datos"
   ]
  },
  {
   "cell_type": "code",
   "execution_count": null,
   "id": "b189fdb9",
   "metadata": {},
   "outputs": [],
   "source": [
    "movie_ratingsDF\\\n",
    "    .filter(movie_ratingsDF.userId == 148)\\\n",
    "    .select(avg(\"rating\"))\\\n",
    "    .show()\n"
   ]
  },
  {
   "cell_type": "markdown",
   "id": "8fd41e2d",
   "metadata": {},
   "source": [
    "Cual es el máximo rating que da el usuario 148?"
   ]
  },
  {
   "cell_type": "code",
   "execution_count": null,
   "id": "ebfc1af5",
   "metadata": {},
   "outputs": [],
   "source": [
    "movie_ratingsDF\\\n",
    "    .filter(movie_ratingsDF.userId == 148)\\\n",
    "    .select(max(\"rating\"))\\\n",
    "    .show()"
   ]
  },
  {
   "cell_type": "markdown",
   "id": "9cead341",
   "metadata": {},
   "source": [
    "En cuales peliculas?"
   ]
  },
  {
   "cell_type": "code",
   "execution_count": null,
   "id": "34724908",
   "metadata": {},
   "outputs": [],
   "source": [
    "# Encadenar Filtros\n",
    "movie_ratingsDF\\\n",
    "    .filter(movie_ratingsDF.userId == 148)\\\n",
    "    .filter(movie_ratingsDF.rating == 5.0)\\\n",
    "    .select(movie_ratingsDF.title)\\\n",
    "    .show()"
   ]
  },
  {
   "cell_type": "code",
   "execution_count": null,
   "id": "2964d012",
   "metadata": {},
   "outputs": [],
   "source": [
    "#Sintaxis SQL\n",
    "\n",
    "movie_ratingsDF\\\n",
    "    .filter(\"userId = 148 AND rating = 5.0\")\\\n",
    "    .select(movie_ratingsDF.title)\\\n",
    "    .show()"
   ]
  },
  {
   "cell_type": "markdown",
   "id": "bb3f6611",
   "metadata": {},
   "source": [
    "### Pivot\n",
    "\n",
    "Algo muy poderoso son las *pivot tables* que permiten analizar datos facilmente."
   ]
  },
  {
   "cell_type": "code",
   "execution_count": null,
   "id": "ac362226",
   "metadata": {},
   "outputs": [],
   "source": [
    "movie_ratingsDF.filter(\"movieId = 1197 AND date <= '19970930'\").groupBy(\"userId\").pivot(\"date\").agg(avg(\"rating\")).show()"
   ]
  },
  {
   "cell_type": "code",
   "execution_count": null,
   "id": "66882f85",
   "metadata": {},
   "outputs": [],
   "source": []
  },
  {
   "cell_type": "code",
   "execution_count": null,
   "id": "367d14de",
   "metadata": {},
   "outputs": [],
   "source": []
  }
 ],
 "metadata": {
  "kernelspec": {
   "display_name": "Python 3 (ipykernel)",
   "language": "python",
   "name": "python3"
  },
  "language_info": {
   "codemirror_mode": {
    "name": "ipython",
    "version": 3
   },
   "file_extension": ".py",
   "mimetype": "text/x-python",
   "name": "python",
   "nbconvert_exporter": "python",
   "pygments_lexer": "ipython3",
   "version": "3.9.17"
  }
 },
 "nbformat": 4,
 "nbformat_minor": 5
}
