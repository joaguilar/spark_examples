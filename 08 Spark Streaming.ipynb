{
 "cells": [
  {
   "cell_type": "code",
   "execution_count": null,
   "id": "9dc2d670",
   "metadata": {},
   "outputs": [],
   "source": [
    "!pip install kafka-python pyspark"
   ]
  },
  {
   "cell_type": "code",
   "execution_count": null,
   "id": "4c6e0ff4",
   "metadata": {},
   "outputs": [],
   "source": [
    "import findspark\n",
    "findspark.init('/spark/spark-3.5.1-bin-hadoop3')\n",
    "from pyspark import *\n",
    "from pyspark.sql import SparkSession\n",
    "from pyspark.sql.types import StructType,StructField, StringType, IntegerType, DateType, TimestampType, LongType\n",
    "from pyspark.sql.types import ArrayType, DoubleType, BooleanType, DecimalType\n",
    "from pyspark.sql.functions import regexp_extract, split, from_unixtime, col, avg, min, max\n",
    "from pyspark.sql.functions import grouping"
   ]
  },
  {
   "cell_type": "markdown",
   "id": "e0ab2042",
   "metadata": {},
   "source": [
    "# Configuración del Streaming Context\n",
    "\n",
    "En este caso hacemos un streaming context dentro del mismo `SparkContext` que teniamos. Solamente puede haber un `context` por JVM.\n",
    "\n",
    "Configuramos el `StreamingContext` de tal forma que lea del socket cada 30 segundos"
   ]
  },
  {
   "cell_type": "code",
   "execution_count": null,
   "id": "3f6e9bf8",
   "metadata": {},
   "outputs": [],
   "source": [
    "from pyspark import SparkContext\n",
    "from pyspark.streaming import StreamingContext\n",
    "\n",
    "sc = None\n",
    "try:\n",
    "    sc = SparkContext(appName=\"movielens\")\n",
    "except:\n",
    "    sc = SparkContext.getOrCreate(\"movielens\")\n",
    "\n",
    "ssc = StreamingContext(sc, 30)  # Intervalo de 30 segundos"
   ]
  },
  {
   "cell_type": "markdown",
   "id": "d4936e6a",
   "metadata": {},
   "source": [
    "Lectura desde un Socket Text Stream"
   ]
  },
  {
   "cell_type": "code",
   "execution_count": null,
   "id": "dad53428",
   "metadata": {},
   "outputs": [],
   "source": [
    "lines = ssc.socketTextStream(\"localhost\", 9999)"
   ]
  },
  {
   "cell_type": "markdown",
   "id": "3fe16cf2",
   "metadata": {},
   "source": [
    "# Procesamiento de Datos en Tiempo Real\n",
    "\n",
    "## Antes de correr el siguiente código\n",
    "\n",
    "Para enviar datos al contexto de streaming, se puede utilizar el comando `netcat` en Unix (MacOS, Linux)\n",
    "\n",
    "```\n",
    "nc -lk 9999\n",
    "```\n",
    "Esto abre el puerto y permite que se le envíe información al programa.\n",
    "\n"
   ]
  },
  {
   "cell_type": "code",
   "execution_count": null,
   "id": "fb70108c",
   "metadata": {},
   "outputs": [],
   "source": [
    "words = lines.flatMap(lambda line: line.split(\" \"))\n",
    "wordCounts = words.map(lambda word: (word, 1)).reduceByKey(lambda a, b: a + b)\n",
    "wordCounts.pprint()\n"
   ]
  },
  {
   "cell_type": "markdown",
   "id": "607ad45a",
   "metadata": {},
   "source": [
    "Una vez que se ejecuta el codigo anterior, pasar a la ventana donde se ejecutó:\n",
    "\n",
    "```\n",
    "nc -lk 9999\n",
    "```\n",
    "\n",
    "Y escribir en el socket:\n",
    "\n",
    "```\n",
    "Este Este es un curso de Big Data de Big Data y Spark\n",
    "```"
   ]
  },
  {
   "cell_type": "markdown",
   "id": "d4372e81",
   "metadata": {},
   "source": [
    "Inicio del Contexto de Streaming"
   ]
  },
  {
   "cell_type": "code",
   "execution_count": null,
   "id": "ebf6c25b",
   "metadata": {},
   "outputs": [],
   "source": [
    "ssc.start()\n",
    "ssc.awaitTermination()\n"
   ]
  },
  {
   "cell_type": "markdown",
   "id": "f36de2dd",
   "metadata": {},
   "source": [
    "Una vez que salga el resultado anterior, agregarle:\n",
    "\n",
    "```\n",
    "Big Data\n",
    "```"
   ]
  },
  {
   "cell_type": "markdown",
   "id": "6a76fe1c",
   "metadata": {},
   "source": [
    "Referencia de la documentación: [Streaming Programming Guide](https://spark.apache.org/docs/latest/streaming-programming-guide.html)"
   ]
  }
 ],
 "metadata": {
  "kernelspec": {
   "display_name": "Python 3 (ipykernel)",
   "language": "python",
   "name": "python3"
  },
  "language_info": {
   "codemirror_mode": {
    "name": "ipython",
    "version": 3
   },
   "file_extension": ".py",
   "mimetype": "text/x-python",
   "name": "python",
   "nbconvert_exporter": "python",
   "pygments_lexer": "ipython3",
   "version": "3.9.17"
  }
 },
 "nbformat": 4,
 "nbformat_minor": 5
}
