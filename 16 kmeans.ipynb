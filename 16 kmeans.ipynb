{
 "cells": [
  {
   "cell_type": "code",
   "execution_count": null,
   "id": "9698d0be",
   "metadata": {
    "scrolled": true
   },
   "outputs": [],
   "source": [
    "import findspark\n",
    "findspark.init('/spark-3.5.1-bin-hadoop3')\n",
    "from pyspark import *\n",
    "from pyspark.sql import SparkSession\n",
    "from pyspark.ml.feature import VectorAssembler, StandardScaler\n",
    "from pyspark.ml.clustering import KMeans\n",
    "import pandas as pd\n",
    "\n",
    "\n",
    "spark = SparkSession.builder.appName(\"analytics\").getOrCreate()"
   ]
  },
  {
   "cell_type": "markdown",
   "id": "6804647d",
   "metadata": {},
   "source": [
    "# K-Means Clustering\n",
    "\n",
    "\n",
    "## Ingestión de Datos:\n",
    "\n",
    "Los datos se cargan en un DataFrame."
   ]
  },
  {
   "cell_type": "code",
   "execution_count": null,
   "id": "f9ea8237",
   "metadata": {},
   "outputs": [],
   "source": [
    "# Cargamos el dataset\n",
    "data_path = \"data/heart_failure_clinical_records_dataset.csv\"\n",
    "data = spark.read.csv(data_path, header=True, inferSchema=True)"
   ]
  },
  {
   "cell_type": "markdown",
   "id": "9e5a4340",
   "metadata": {},
   "source": [
    "## Exploración de Datos:\n",
    "\n",
    "* df.describe(): Proporciona un resumen estadístico de los datos.\n",
    "* df.show(): Muestra las primeras filas del DataFrame para inspección visual.\n"
   ]
  },
  {
   "cell_type": "code",
   "execution_count": null,
   "id": "f63a892f",
   "metadata": {},
   "outputs": [],
   "source": [
    "# Mostramos las primeras filas del dataset\n",
    "data.show(5)"
   ]
  },
  {
   "cell_type": "markdown",
   "id": "b703a5a9",
   "metadata": {},
   "source": [
    "## Selección de datos\n"
   ]
  },
  {
   "cell_type": "code",
   "execution_count": null,
   "id": "ac683b43",
   "metadata": {},
   "outputs": [],
   "source": [
    "# Seleccionamos las características que vamos a utilizar para el clustering\n",
    "features = ['age', \n",
    "            'creatinine_phosphokinase', \n",
    "            'ejection_fraction', \n",
    "            'platelets', \n",
    "            'serum_creatinine', \n",
    "            'serum_sodium', \n",
    "            'time']\n"
   ]
  },
  {
   "cell_type": "markdown",
   "id": "9d6aa119",
   "metadata": {},
   "source": [
    "## VectorAssembler\n",
    "\n",
    "Combina varias columnas de características en un solo vector de características, esencial para el entrenamiento del modelo."
   ]
  },
  {
   "cell_type": "code",
   "execution_count": null,
   "id": "7e1266e7",
   "metadata": {},
   "outputs": [],
   "source": [
    "# Vectorizamos las características seleccionadas\n",
    "vector_assembler = VectorAssembler(inputCols=features, outputCol=\"unscaled_features\")\n",
    "data_unscaled = vector_assembler.transform(data)"
   ]
  },
  {
   "cell_type": "markdown",
   "id": "a7775f2e",
   "metadata": {},
   "source": [
    "## Scaler\n",
    "\n",
    "Utiliza `StandardScaler` para escalar las características y se entrena el modelo de escalado\n",
    "\n",
    "### Por qué es Necesario el Escalado de Características\n",
    "\n",
    "* Uniformidad de Escalas: Muchos algoritmos de aprendizaje automático funcionan mejor cuando las características están en la misma escala. Por ejemplo, en el caso del clustering K-Means, la distancia euclidiana se utiliza para asignar puntos a clusters. Si las características tienen escalas muy diferentes (por ejemplo, una característica está en el rango de 0 a 1 y otra en el rango de 0 a 1000), las características con rangos mayores dominarán la distancia euclidiana, y el modelo no funcionará correctamente.\n",
    "\n",
    "* Convergencia Más Rápida: Algunos algoritmos, como el gradiente descendente, convergen más rápidamente cuando las características están escaladas. Esto se debe a que la función de pérdida tiene una forma más regular, lo que facilita la optimización.\n",
    "\n",
    "* Mejora del Rendimiento: En algunos casos, el rendimiento del modelo puede mejorar significativamente cuando las características están escaladas. Esto es especialmente cierto para algoritmos que son sensibles a las magnitudes de las características.\n",
    "\n"
   ]
  },
  {
   "cell_type": "code",
   "execution_count": null,
   "id": "8748b0e1",
   "metadata": {},
   "outputs": [],
   "source": [
    "# Escalamos las características\n",
    "scaler = StandardScaler(inputCol=\"unscaled_features\", outputCol=\"features\")\n",
    "scaler_model = scaler.fit(data_unscaled)\n",
    "data_scaled = scaler_model.transform(data_unscaled)"
   ]
  },
  {
   "cell_type": "markdown",
   "id": "44fb7433",
   "metadata": {},
   "source": [
    "## Modelo K-Means\n",
    "\n",
    "Entrena el modelo utilizando el algoritmo de Random Forest, ideal para tareas de regresión debido a su capacidad para manejar grandes conjuntos de datos y su robustez frente a datos ruidosos."
   ]
  },
  {
   "cell_type": "code",
   "execution_count": null,
   "id": "d067972a",
   "metadata": {},
   "outputs": [],
   "source": [
    "# Definimos el modelo KMeans\n",
    "kmeans = KMeans(featuresCol=\"features\", k=3, seed=1)\n",
    "\n",
    "# Entrenamos el modelo\n",
    "kmeans_model = kmeans.fit(data_scaled)"
   ]
  },
  {
   "cell_type": "markdown",
   "id": "1b9bf707",
   "metadata": {},
   "source": [
    "## Clustering"
   ]
  },
  {
   "cell_type": "code",
   "execution_count": null,
   "id": "5c63ebf9",
   "metadata": {},
   "outputs": [],
   "source": [
    "# Realizamos el clustering\n",
    "predictions = kmeans_model.transform(data_scaled)"
   ]
  },
  {
   "cell_type": "markdown",
   "id": "4b14ea9e",
   "metadata": {},
   "source": [
    "## Revisión de resultados del modelo"
   ]
  },
  {
   "cell_type": "code",
   "execution_count": null,
   "id": "888a1167",
   "metadata": {},
   "outputs": [],
   "source": [
    "# Mostramos los resultados\n",
    "predictions.select('age', \n",
    "                   'creatinine_phosphokinase', \n",
    "                   'ejection_fraction', \n",
    "                   'platelets', \n",
    "                   'serum_creatinine', \n",
    "                   'serum_sodium', \n",
    "                   'time', \n",
    "                   'prediction').show()\n",
    "\n",
    "# imprimimos los centroides de los clusters\n",
    "centers = kmeans_model.clusterCenters()\n",
    "print(\"Cluster Centers: \")\n",
    "for center in centers:\n",
    "    print(center)"
   ]
  },
  {
   "cell_type": "code",
   "execution_count": null,
   "id": "d798ccaa",
   "metadata": {},
   "outputs": [],
   "source": []
  }
 ],
 "metadata": {
  "kernelspec": {
   "display_name": "Python 3 (ipykernel)",
   "language": "python",
   "name": "python3"
  },
  "language_info": {
   "codemirror_mode": {
    "name": "ipython",
    "version": 3
   },
   "file_extension": ".py",
   "mimetype": "text/x-python",
   "name": "python",
   "nbconvert_exporter": "python",
   "pygments_lexer": "ipython3",
   "version": "3.9.17"
  }
 },
 "nbformat": 4,
 "nbformat_minor": 5
}
