{
 "cells": [
  {
   "cell_type": "code",
   "execution_count": null,
   "id": "9698d0be",
   "metadata": {
    "scrolled": true
   },
   "outputs": [],
   "source": [
    "import findspark\n",
    "findspark.init('spark-3.5.1-bin-hadoop3')\n",
    "from pyspark import *\n",
    "from pyspark.sql import SparkSession\n",
    "from pyspark.sql.types import StructType,StructField, StringType, IntegerType, DateType, TimestampType, LongType\n",
    "from pyspark.sql.types import ArrayType, DoubleType, BooleanType, DecimalType\n",
    "from pyspark.sql.functions import regexp_extract, split, from_unixtime, col, avg, min, max, desc\n",
    "from pyspark.sql.functions import grouping, explode, array_contains\n",
    "from pyspark.sql.functions import mean, stddev, skewness, kurtosis\n",
    "import matplotlib.pyplot as plt\n",
    "import pandas as pd\n",
    "\n",
    "\n",
    "spark = SparkSession.builder.appName(\"analytics\").getOrCreate()"
   ]
  },
  {
   "cell_type": "code",
   "execution_count": null,
   "id": "23b57c8f",
   "metadata": {},
   "outputs": [],
   "source": [
    "# Cargar el CSV en un DataFrame de Spark\n",
    "df = spark.read.csv(\"datos.csv\", header=True, inferSchema=True)\n",
    "\n",
    "# Mostrar el esquema del DataFrame\n",
    "df.printSchema()"
   ]
  },
  {
   "cell_type": "markdown",
   "id": "8946407d",
   "metadata": {},
   "source": [
    "## Medidas de tendencia central\n",
    "\n",
    "Spark Docs:\n",
    "\n",
    "mean: [mean](https://spark.apache.org/docs/3.1.1/api/python/reference/api/pyspark.sql.functions.mean.html)\n",
    "\n",
    "median (approxQuantile): [pyspark.sql.DataFrame.approxQuantile](https://spark.apache.org/docs/latest/api/python/reference/pyspark.sql/api/pyspark.sql.DataFrame.approxQuantile.html)\n",
    "\n",
    "mode: [mode](https://spark.apache.org/docs/latest/api/python/reference/pyspark.sql/api/pyspark.sql.functions.mode.html)"
   ]
  },
  {
   "cell_type": "code",
   "execution_count": null,
   "id": "96a519e6",
   "metadata": {},
   "outputs": [],
   "source": [
    "mean_calificacion = df.select(mean(\"Calificacion\")).collect()[0][0]\n",
    "print(mean_calificacion)\n",
    "\n",
    "median_calificacion = df.approxQuantile(\"Calificacion\", [0.5], 0.0)[0]\n",
    "print(median_calificacion)\n",
    "\n",
    "mode_calificacion = df.groupBy(\"Calificacion\").count().orderBy(\"count\", ascending=False).first()[0]\n",
    "print(mode_calificacion)"
   ]
  },
  {
   "cell_type": "markdown",
   "id": "4c988b57",
   "metadata": {},
   "source": [
    "## Medidas de dispersión\n",
    "\n",
    "stddev: [stddev](https://spark.apache.org/docs/latest/api/python/reference/pyspark.sql/api/pyspark.sql.functions.stddev.html)"
   ]
  },
  {
   "cell_type": "code",
   "execution_count": null,
   "id": "c2a2297d",
   "metadata": {},
   "outputs": [],
   "source": [
    "stddev_calificacion = df.select(stddev(\"Calificacion\")).collect()[0][0]\n",
    "stddev_calificacion"
   ]
  },
  {
   "cell_type": "markdown",
   "id": "e7e120d4",
   "metadata": {},
   "source": [
    "## Medidas de forma\n",
    "\n",
    "skewness: [skewness](https://spark.apache.org/docs/latest/api/python/reference/pyspark.sql/api/pyspark.sql.functions.skewness.html) \n",
    "\n",
    "kurtosis: [kurtosis](https://spark.apache.org/docs/3.1.3/api/python/reference/api/pyspark.sql.functions.kurtosis.html)"
   ]
  },
  {
   "cell_type": "code",
   "execution_count": null,
   "id": "ecbd7087",
   "metadata": {},
   "outputs": [],
   "source": [
    "skewness_calificacion = df.select(skewness(\"Calificacion\")).collect()[0][0]\n",
    "print(skewness_calificacion)\n",
    "\n",
    "kurtosis_calificacion = df.select(kurtosis(\"Calificacion\")).collect()[0][0]\n",
    "print(kurtosis_calificacion)"
   ]
  },
  {
   "cell_type": "markdown",
   "id": "07dc1c4b",
   "metadata": {},
   "source": [
    "## Graficos\n",
    "\n",
    "Graficar la distribución de calificaciones\n",
    "\n",
    "Para esto las pasamos a Pandas y las graficamos utilizando matplotlib"
   ]
  },
  {
   "cell_type": "code",
   "execution_count": null,
   "id": "05881612",
   "metadata": {},
   "outputs": [],
   "source": [
    "# Convertir a pandas para graficar\n",
    "df_pd = df.toPandas()\n",
    "\n",
    "plt.figure(figsize=(10, 6))\n",
    "plt.hist(df_pd[\"Calificacion\"], bins=5, edgecolor='k', alpha=0.7)\n",
    "plt.title(\"Distribución de Calificaciones\")\n",
    "plt.xlabel(\"Calificación\")\n",
    "plt.ylabel(\"Frecuencia\")\n",
    "plt.grid(True)\n",
    "plt.show()"
   ]
  },
  {
   "cell_type": "markdown",
   "id": "436ce126",
   "metadata": {},
   "source": [
    "Graficar la distribución de ingresos"
   ]
  },
  {
   "cell_type": "code",
   "execution_count": null,
   "id": "42ca49c8",
   "metadata": {},
   "outputs": [],
   "source": [
    "plt.figure(figsize=(10, 6))\n",
    "plt.hist(df_pd[\"Ingreso\"], bins=10, edgecolor='k', alpha=0.7)\n",
    "plt.title(\"Distribución de Ingresos\")\n",
    "plt.xlabel(\"Ingreso\")\n",
    "plt.ylabel(\"Frecuencia\")\n",
    "plt.grid(True)\n",
    "plt.show()"
   ]
  },
  {
   "cell_type": "markdown",
   "id": "abe95f78",
   "metadata": {},
   "source": [
    "## Imprimir las métricas"
   ]
  },
  {
   "cell_type": "code",
   "execution_count": null,
   "id": "76f78281",
   "metadata": {},
   "outputs": [],
   "source": [
    "print(f\"Media de Calificación: {mean_calificacion}\")\n",
    "print(f\"Mediana de Calificación: {median_calificacion}\")\n",
    "print(f\"Moda de Calificación: {mode_calificacion}\")\n",
    "print(f\"Desviación Estándar de Calificación: {stddev_calificacion}\")\n",
    "print(f\"Asimetría de Calificación: {skewness_calificacion}\")\n",
    "print(f\"Curtosis de Calificación: {kurtosis_calificacion}\")"
   ]
  }
 ],
 "metadata": {
  "kernelspec": {
   "display_name": "Python 3 (ipykernel)",
   "language": "python",
   "name": "python3"
  },
  "language_info": {
   "codemirror_mode": {
    "name": "ipython",
    "version": 3
   },
   "file_extension": ".py",
   "mimetype": "text/x-python",
   "name": "python",
   "nbconvert_exporter": "python",
   "pygments_lexer": "ipython3",
   "version": "3.9.17"
  }
 },
 "nbformat": 4,
 "nbformat_minor": 5
}
