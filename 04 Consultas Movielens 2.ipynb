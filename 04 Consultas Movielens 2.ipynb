{
 "cells": [
  {
   "cell_type": "code",
   "execution_count": null,
   "id": "9698d0be",
   "metadata": {},
   "outputs": [],
   "source": [
    "import findspark\n",
    "findspark.init('/spark/spark-3.5.1-bin-hadoop3')\n",
    "from pyspark import *\n",
    "from pyspark.sql import SparkSession\n",
    "from pyspark.sql.types import StructType,StructField, StringType, IntegerType, DateType, TimestampType, LongType\n",
    "from pyspark.sql.types import ArrayType, DoubleType, BooleanType, DecimalType\n",
    "from pyspark.sql.functions import regexp_extract, split, from_unixtime, col, avg, min, max, desc\n",
    "from pyspark.sql.functions import grouping\n",
    "\n",
    "\n",
    "\n",
    "spark = SparkSession.builder.appName(\"movielens\").getOrCreate()"
   ]
  },
  {
   "attachments": {},
   "cell_type": "markdown",
   "id": "961d716c",
   "metadata": {},
   "source": [
    "# Consultas sobre Movielens\n",
    "\n",
    "## Schema de Movielens\n",
    "\n",
    "![Schema](movielens_schema.png)\n",
    "\n",
    "## ¿Cuál es la distribución de la clasificación de las películas? \n",
    "\n",
    "Proceso:\n",
    "\n",
    "1. Cargar la tabla ratings\n",
    "1. Cargar la tabla movies\n",
    "1. Unir ambas tablas\n",
    "1. Agrupar por calificación\n",
    "1. Contar las películas\n"
   ]
  },
  {
   "cell_type": "markdown",
   "id": "7057ac9c",
   "metadata": {},
   "source": [
    "### Cargar las tablas"
   ]
  },
  {
   "cell_type": "code",
   "execution_count": null,
   "id": "0e9b4a2d",
   "metadata": {},
   "outputs": [],
   "source": [
    "# Tabla Ratings\n",
    "ratings_schema  = StructType(fields=[\n",
    "    StructField(\"userId\",IntegerType(),True), \n",
    "    StructField(\"movieId\",IntegerType(),True),\n",
    "    StructField(\"rating\",DecimalType(precision=2,scale=1),True),\n",
    "    StructField(\"timestamp\",LongType(),True)\n",
    "])\n",
    "ratingsDf = spark.read\\\n",
    "    .option(\"header\", True)\\\n",
    "    .option(\"dateFormat\", \"yyyyMMdd\")\\\n",
    "    .schema(ratings_schema)\\\n",
    "    .csv(\"./ml-latest-small/ratings.csv\")\\\n",
    "    .withColumn(\\\n",
    "            \"date\",\\\n",
    "            from_unixtime(\"timestamp\", \"yyyyMMdd\"))\\\n",
    "                .drop('timestamp')\n",
    "\n",
    "# Tabla Movies\n",
    "movies_schema  = StructType(fields=[\n",
    "    StructField(\"movieId\",IntegerType(),True), \n",
    "    StructField(\"title\",StringType(),True),\n",
    "    StructField(\"genres\",StringType(),True)\n",
    "])\n",
    "\n",
    "moviesDf = spark.read\\\n",
    "    .option(\"header\", True)\\\n",
    "    .schema(movies_schema)\\\n",
    "    .csv(\"./ml-latest-small/movies.csv\")\n",
    "\n",
    "moviesDf = moviesDf.withColumn(\"genresSplit\", split(moviesDf[\"genres\"],\"\\|\"))\\\n",
    "                        .drop('genres').withColumnRenamed(\"genresSplit\",\"genres\")\\\n",
    "                            .withColumn(\\\n",
    "                                \"year\",\\\n",
    "                                regexp_extract(\\\n",
    "                                           moviesDf[\"title\"],\\\n",
    "                                           \"^.+\\(([0-9]+)\\)$\",\\\n",
    "                                           1)\\\n",
    "                                .cast(IntegerType()))\\\n",
    "                            .withColumn(\\\n",
    "                            \"title_temp\",\\\n",
    "                            regexp_extract(\\\n",
    "                                           moviesDf[\"title\"],\\\n",
    "                                           \"^(.+?) \\([0-9]+\\)$\",\\\n",
    "                                           1))\\\n",
    "                            .drop('title')\\\n",
    "                        .withColumnRenamed(\"title_temp\",\"title\")"
   ]
  },
  {
   "cell_type": "markdown",
   "id": "c7a71cf4",
   "metadata": {},
   "source": [
    "### Unir Ambas tablas"
   ]
  },
  {
   "cell_type": "code",
   "execution_count": null,
   "id": "bd12f7d1",
   "metadata": {},
   "outputs": [],
   "source": [
    "movie_ratingsDF = ratingsDf.join(moviesDf,on=\"movieId\",how=\"inner\")\n",
    "movie_ratingsDF.show()"
   ]
  },
  {
   "cell_type": "markdown",
   "id": "66536d45",
   "metadata": {},
   "source": [
    "### Agrupar por rating"
   ]
  },
  {
   "cell_type": "code",
   "execution_count": null,
   "id": "c5413aec",
   "metadata": {},
   "outputs": [],
   "source": [
    "from pyspark.sql.functions import grouping\n",
    "\n",
    "movie_ratingsDF_grouped_by_rating = movie_ratingsDF.groupBy(\"rating\")"
   ]
  },
  {
   "cell_type": "markdown",
   "id": "bf10fa81",
   "metadata": {},
   "source": [
    "### Contar las calificaciones"
   ]
  },
  {
   "cell_type": "code",
   "execution_count": null,
   "id": "89ffc388",
   "metadata": {},
   "outputs": [],
   "source": [
    "movie_ratingsDF_grouped_by_rating.agg({\"*\": \"count\"}).collect()"
   ]
  },
  {
   "cell_type": "code",
   "execution_count": null,
   "id": "85189a11",
   "metadata": {
    "scrolled": true
   },
   "outputs": [],
   "source": [
    "# Alternativa: metodo count\n",
    "movie_ratingsDF_grouped_by_rating.count().show()"
   ]
  },
  {
   "cell_type": "markdown",
   "id": "bbab9697",
   "metadata": {},
   "source": [
    "Ordenamos la lista para que se vea mejor:"
   ]
  },
  {
   "cell_type": "code",
   "execution_count": null,
   "id": "82caad45",
   "metadata": {},
   "outputs": [],
   "source": [
    "movie_ratingsDF_grouped_by_rating.count().orderBy(desc(\"rating\")).show()"
   ]
  },
  {
   "attachments": {},
   "cell_type": "markdown",
   "id": "eb54e814",
   "metadata": {},
   "source": [
    "## ¿Cuál es la película con la mayor cantidad de reseñas? "
   ]
  },
  {
   "cell_type": "code",
   "execution_count": null,
   "id": "9c127dfb",
   "metadata": {
    "scrolled": true
   },
   "outputs": [],
   "source": [
    "movie_ratingsDF_grouped_by_movieID = movie_ratingsDF.groupBy(\"title\").count().orderBy(desc(\"count\"))\n",
    "movie_ratingsDF_grouped_by_movieID.show(1)\n"
   ]
  },
  {
   "cell_type": "code",
   "execution_count": null,
   "id": "5aa5c9bf",
   "metadata": {},
   "outputs": [],
   "source": []
  }
 ],
 "metadata": {
  "kernelspec": {
   "display_name": "Python 3 (ipykernel)",
   "language": "python",
   "name": "python3"
  },
  "language_info": {
   "codemirror_mode": {
    "name": "ipython",
    "version": 3
   },
   "file_extension": ".py",
   "mimetype": "text/x-python",
   "name": "python",
   "nbconvert_exporter": "python",
   "pygments_lexer": "ipython3",
   "version": "3.9.17"
  }
 },
 "nbformat": 4,
 "nbformat_minor": 5
}
