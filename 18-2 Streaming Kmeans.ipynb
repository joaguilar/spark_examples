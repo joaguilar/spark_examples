{
 "cells": [
  {
   "cell_type": "code",
   "execution_count": null,
   "id": "9698d0be",
   "metadata": {
    "scrolled": true
   },
   "outputs": [],
   "source": [
    "import findspark\n",
    "findspark.init('/spark-3.5.1-bin-hadoop3')\n",
    "from pyspark import *\n",
    "from pyspark.sql import SparkSession\n",
    "from pyspark.sql.functions import rand, col\n",
    "from pyspark.sql.types import StructType, StructField, FloatType\n",
    "from pyspark.ml.feature import VectorAssembler, StandardScaler\n",
    "from pyspark.ml.clustering import KMeans\n",
    "import time\n",
    "\n",
    "\n",
    "\n",
    "spark = SparkSession.builder.appName(\"analytics\").config(\"spark.driver.memory\", \"2g\").getOrCreate()\n"
   ]
  },
  {
   "cell_type": "code",
   "execution_count": null,
   "id": "469836c7",
   "metadata": {},
   "outputs": [],
   "source": [
    "\n",
    "\n",
    "\n",
    "\n",
    "# Definimos el esquema del dataset simulado\n",
    "schema = StructType([\n",
    "    StructField(\"age\", FloatType(), True),\n",
    "    StructField(\"creatinine_phosphokinase\", FloatType(), True),\n",
    "    StructField(\"ejection_fraction\", FloatType(), True),\n",
    "    StructField(\"platelets\", FloatType(), True),\n",
    "    StructField(\"serum_creatinine\", FloatType(), True),\n",
    "    StructField(\"serum_sodium\", FloatType(), True),\n",
    "    StructField(\"time\", FloatType(), True)\n",
    "])\n",
    "\n",
    "# Simulamos un stream de datos creando un DataFrame con valores aleatorios\n",
    "def generate_stream_data():\n",
    "    return spark.range(0, 100).select(\n",
    "        (rand() * 100).cast(\"float\").alias(\"age\"),\n",
    "        (rand() * 8000).cast(\"float\").alias(\"creatinine_phosphokinase\"),\n",
    "        (rand() * 80).cast(\"float\").alias(\"ejection_fraction\"),\n",
    "        (rand() * 450000).cast(\"float\").alias(\"platelets\"),\n",
    "        (rand() * 5).cast(\"float\").alias(\"serum_creatinine\"),\n",
    "        (rand() * 150).cast(\"float\").alias(\"serum_sodium\"),\n",
    "        (rand() * 300).cast(\"float\").alias(\"time\")\n",
    "    )\n",
    "\n",
    "# Generamos datos de entrenamiento iniciales\n",
    "initial_data = generate_stream_data()\n",
    "\n",
    "\n"
   ]
  },
  {
   "cell_type": "code",
   "execution_count": null,
   "id": "e89c12f2",
   "metadata": {},
   "outputs": [],
   "source": [
    "# Seleccionamos las características que vamos a utilizar para el clustering\n",
    "features = ['age', 'creatinine_phosphokinase', 'ejection_fraction', 'platelets', 'serum_creatinine', 'serum_sodium', 'time']\n",
    "\n",
    "# Vectorizamos las características seleccionadas\n",
    "vector_assembler = VectorAssembler(inputCols=features, outputCol=\"unscaled_features\")\n",
    "initial_data_vector = vector_assembler.transform(initial_data)\n",
    "\n",
    "# Escalamos las características\n",
    "scaler = StandardScaler(inputCol=\"unscaled_features\", outputCol=\"features\")\n",
    "scaler_model = scaler.fit(initial_data_vector)\n",
    "initial_data_scaled = scaler_model.transform(initial_data_vector)\n",
    "\n"
   ]
  },
  {
   "cell_type": "markdown",
   "id": "00609258",
   "metadata": {},
   "source": [
    "# Generar datos para simular streaming para el otro notebook"
   ]
  },
  {
   "cell_type": "code",
   "execution_count": null,
   "id": "08d0cd7e",
   "metadata": {},
   "outputs": [],
   "source": [
    "\n",
    "\n",
    "# Simulamos la generación de datos de stream y los escribimos a una carpeta\n",
    "for i in range(5):\n",
    "    stream_data = generate_stream_data()\n",
    "    stream_data.write.mode(\"append\").parquet(\"data/simulated_stream\")\n",
    "    print(\"Wrote data to the parquet file\")\n",
    "    time.sleep(30)\n",
    "\n"
   ]
  }
 ],
 "metadata": {
  "kernelspec": {
   "display_name": "Python 3 (ipykernel)",
   "language": "python",
   "name": "python3"
  },
  "language_info": {
   "codemirror_mode": {
    "name": "ipython",
    "version": 3
   },
   "file_extension": ".py",
   "mimetype": "text/x-python",
   "name": "python",
   "nbconvert_exporter": "python",
   "pygments_lexer": "ipython3",
   "version": "3.9.17"
  }
 },
 "nbformat": 4,
 "nbformat_minor": 5
}
