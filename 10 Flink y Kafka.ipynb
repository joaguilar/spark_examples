{
 "cells": [
  {
   "cell_type": "code",
   "execution_count": null,
   "id": "8fff34ef",
   "metadata": {},
   "outputs": [],
   "source": [
    "!pip install apache-flink confluent-kafka"
   ]
  },
  {
   "cell_type": "code",
   "execution_count": null,
   "id": "25a9bf94",
   "metadata": {},
   "outputs": [],
   "source": [
    "from pyflink.datastream import StreamExecutionEnvironment\n",
    "from pyflink.datastream.connectors import FlinkKafkaProducer\n",
    "from pyflink.common.serialization import SimpleStringSchema\n",
    "\n",
    "# Crear entorno de ejecución\n",
    "env = StreamExecutionEnvironment\\\n",
    "        .add_jars()\\\n",
    "        .get_execution_environment()\n",
    "\n",
    "# Crear un DataStream\n",
    "data_stream = env.from_collection([\"mensaje1\", \"mensaje2\", \"mensaje3\"])\n",
    "\n",
    "# Configurar el productor de Kafka\n",
    "producer = FlinkKafkaProducer(\n",
    "    topic='test-topic',\n",
    "    serialization_schema=SimpleStringSchema(),\n",
    "    producer_config={'bootstrap.servers': 'localhost:2181'}\n",
    ")\n",
    "\n",
    "# Añadir el productor al DataStream\n",
    "data_stream.add_sink(producer)\n",
    "\n",
    "# Ejecutar el entorno de ejecución\n",
    "env.execute(\"Kafka Producer Example\")\n"
   ]
  },
  {
   "cell_type": "code",
   "execution_count": null,
   "id": "938a6f1a",
   "metadata": {},
   "outputs": [],
   "source": [
    "from pyflink.datastream import StreamExecutionEnvironment\n",
    "from pyflink.datastream.connectors import FlinkKafkaConsumer\n",
    "from pyflink.common.serialization import SimpleStringSchema\n",
    "import os\n",
    "\n",
    "# Crear entorno de ejecución\n",
    "env = StreamExecutionEnvironment.get_execution_environment()\n",
    "\n",
    "# Configurar las propiedades de Kafka\n",
    "properties = {\n",
    "    'bootstrap.servers': 'localhost:2181',\n",
    "    'group.id': 'test'\n",
    "}\n",
    "\n",
    "# Crear el consumidor de Kafka\n",
    "consumer = FlinkKafkaConsumer(\n",
    "    topics='test-topic',\n",
    "    deserialization_schema=SimpleStringSchema(),\n",
    "    properties=properties\n",
    ")\n",
    "\n",
    "# Crear un DataStream desde el consumidor de Kafka\n",
    "data_stream = env.add_source(consumer)\n",
    "\n",
    "# Imprimir los mensajes recibidos\n",
    "data_stream.print()\n",
    "\n",
    "# Ejecutar el entorno de ejecución\n",
    "env.execute(\"Kafka Consumer Example\")\n"
   ]
  }
 ],
 "metadata": {
  "kernelspec": {
   "display_name": "Python 3 (ipykernel)",
   "language": "python",
   "name": "python3"
  },
  "language_info": {
   "codemirror_mode": {
    "name": "ipython",
    "version": 3
   },
   "file_extension": ".py",
   "mimetype": "text/x-python",
   "name": "python",
   "nbconvert_exporter": "python",
   "pygments_lexer": "ipython3",
   "version": "3.9.17"
  }
 },
 "nbformat": 4,
 "nbformat_minor": 5
}
