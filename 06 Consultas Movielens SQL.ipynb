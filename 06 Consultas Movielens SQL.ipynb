{
 "cells": [
  {
   "cell_type": "code",
   "execution_count": null,
   "id": "9698d0be",
   "metadata": {},
   "outputs": [],
   "source": [
    "import findspark\n",
    "findspark.init('/spark/spark-3.5.1-bin-hadoop3')\n",
    "from pyspark import *\n",
    "from pyspark.sql import SparkSession\n",
    "from pyspark.sql.types import StructType,StructField, StringType, IntegerType, DateType, TimestampType, LongType\n",
    "from pyspark.sql.types import ArrayType, DoubleType, BooleanType, DecimalType\n",
    "from pyspark.sql.functions import regexp_extract, split, from_unixtime, col, avg, min, max, desc\n",
    "from pyspark.sql.functions import grouping, explode, array_contains\n",
    "\n",
    "\n",
    "\n",
    "spark = SparkSession.builder.appName(\"movielens\").getOrCreate()"
   ]
  },
  {
   "cell_type": "markdown",
   "id": "961d716c",
   "metadata": {},
   "source": [
    "# Consultas sobre Movielens\n",
    "\n",
    "## Schema de Movielens\n",
    "\n",
    "![Schema](movielens_schema.png)\n",
    "\n",
    "## ¿Cuál es la distribución de la clasificación de las películas? \n",
    "\n",
    "Proceso:\n",
    "\n",
    "1. Cargar la tabla ratings\n",
    "1. Cargar la tabla movies\n",
    "1. Unir ambas tablas\n",
    "1. Agrupar por calificación\n",
    "1. Contar las películas\n"
   ]
  },
  {
   "cell_type": "markdown",
   "id": "7057ac9c",
   "metadata": {},
   "source": [
    "### Cargar las tablas"
   ]
  },
  {
   "cell_type": "code",
   "execution_count": null,
   "id": "0e9b4a2d",
   "metadata": {},
   "outputs": [],
   "source": [
    "# Tabla Ratings\n",
    "ratings_schema  = StructType(fields=[\n",
    "    StructField(\"userId\",IntegerType(),True), \n",
    "    StructField(\"movieId\",IntegerType(),True),\n",
    "    StructField(\"rating\",DecimalType(precision=2,scale=1),True),\n",
    "    StructField(\"timestamp\",LongType(),True)\n",
    "])\n",
    "ratingsDf = spark.read\\\n",
    "    .option(\"header\", True)\\\n",
    "    .option(\"dateFormat\", \"yyyyMMdd\")\\\n",
    "    .schema(ratings_schema)\\\n",
    "    .csv(\"./ml-latest-small/ratings.csv\")\\\n",
    "    .withColumn(\\\n",
    "            \"date\",\\\n",
    "            from_unixtime(\"timestamp\", \"yyyyMMdd\"))\\\n",
    "                .drop('timestamp')\n",
    "\n",
    "# Tabla Movies\n",
    "movies_schema  = StructType(fields=[\n",
    "    StructField(\"movieId\",IntegerType(),True), \n",
    "    StructField(\"title\",StringType(),True),\n",
    "    StructField(\"genres\",StringType(),True)\n",
    "])\n",
    "\n",
    "moviesDf = spark.read\\\n",
    "    .option(\"header\", True)\\\n",
    "    .schema(movies_schema)\\\n",
    "    .csv(\"./ml-latest-small/movies.csv\")\n",
    "\n",
    "moviesDf = moviesDf.withColumn(\"genresSplit\", split(moviesDf[\"genres\"],\"\\|\"))\\\n",
    "                        .drop('genres').withColumnRenamed(\"genresSplit\",\"genres\")\\\n",
    "                            .withColumn(\\\n",
    "                                \"year\",\\\n",
    "                                regexp_extract(\\\n",
    "                                           moviesDf[\"title\"],\\\n",
    "                                           \"^.+\\(([0-9]+)\\)$\",\\\n",
    "                                           1)\\\n",
    "                                .cast(IntegerType()))\\\n",
    "                            .withColumn(\\\n",
    "                            \"title_temp\",\\\n",
    "                            regexp_extract(\\\n",
    "                                           moviesDf[\"title\"],\\\n",
    "                                           \"^(.+?) \\([0-9]+\\)$\",\\\n",
    "                                           1))\\\n",
    "                            .drop('title')\\\n",
    "                        .withColumnRenamed(\"title_temp\",\"title\")"
   ]
  },
  {
   "cell_type": "markdown",
   "id": "c7a71cf4",
   "metadata": {},
   "source": [
    "### Unir Ambas tablas"
   ]
  },
  {
   "cell_type": "code",
   "execution_count": null,
   "id": "bd12f7d1",
   "metadata": {},
   "outputs": [],
   "source": [
    "movie_ratingsDF = ratingsDf.join(moviesDf,on=\"movieId\",how=\"inner\")\n",
    "movie_ratingsDF.head(3)"
   ]
  },
  {
   "cell_type": "markdown",
   "id": "66536d45",
   "metadata": {},
   "source": [
    "### Mostrar la tabla"
   ]
  },
  {
   "cell_type": "code",
   "execution_count": null,
   "id": "af2e3571",
   "metadata": {
    "scrolled": true
   },
   "outputs": [],
   "source": [
    "movie_ratingsDF.show(2)"
   ]
  },
  {
   "cell_type": "markdown",
   "id": "f8754203",
   "metadata": {},
   "source": [
    "Obtener todas las películas con una calificación superior a 4."
   ]
  },
  {
   "cell_type": "code",
   "execution_count": null,
   "id": "25d7ad86",
   "metadata": {},
   "outputs": [],
   "source": [
    "movie_ratingsDF.createOrReplaceTempView(\"movies\")\n",
    "high_rated_movies = spark.sql(\"SELECT * FROM movies WHERE rating > 4\")\n",
    "high_rated_movies.show(5)"
   ]
  },
  {
   "cell_type": "markdown",
   "id": "fb9d1e4d",
   "metadata": {},
   "source": [
    "Calcular la calificación promedio por año."
   ]
  },
  {
   "cell_type": "code",
   "execution_count": null,
   "id": "854e07d1",
   "metadata": {},
   "outputs": [],
   "source": [
    "avg_ratings_by_year = spark.sql(\"SELECT year, AVG(rating) as avg_rating FROM movies GROUP BY year ORDER BY year DESC\")\n",
    "avg_ratings_by_year.show(10)"
   ]
  },
  {
   "cell_type": "markdown",
   "id": "68d86a28",
   "metadata": {},
   "source": [
    "Convertir la fecha de string a timestamp y extraer el año."
   ]
  },
  {
   "cell_type": "code",
   "execution_count": null,
   "id": "c1087314",
   "metadata": {
    "scrolled": true
   },
   "outputs": [],
   "source": [
    "from pyspark.sql.functions import col, year, to_date\n",
    "\n",
    "movie_ratingsDF = movie_ratingsDF.withColumn(\"date\", to_date(col(\"date\"), \"yyyyMMdd\"))\n",
    "movie_ratingsDF = movie_ratingsDF.withColumn(\"year2\", year(col(\"date2\")))\n",
    "movie_ratingsDF.show(20)\n"
   ]
  },
  {
   "cell_type": "markdown",
   "id": "2d86647a",
   "metadata": {},
   "source": [
    "Filtrar películas del género 'Comedy' y ordenarlas por calificación descendente."
   ]
  },
  {
   "cell_type": "code",
   "execution_count": null,
   "id": "3c74f83d",
   "metadata": {},
   "outputs": [],
   "source": [
    "comedy_movies = spark.sql(\"\"\"\n",
    "  SELECT * \n",
    "  FROM movies \n",
    "  WHERE array_contains(genres, 'Comedy') \n",
    "  ORDER BY rating DESC\n",
    "\"\"\")\n",
    "comedy_movies.show()\n"
   ]
  },
  {
   "cell_type": "markdown",
   "id": "51c1e675",
   "metadata": {},
   "source": []
  },
  {
   "cell_type": "code",
   "execution_count": null,
   "id": "964143cb",
   "metadata": {},
   "outputs": [],
   "source": []
  }
 ],
 "metadata": {
  "kernelspec": {
   "display_name": "Python 3 (ipykernel)",
   "language": "python",
   "name": "python3"
  },
  "language_info": {
   "codemirror_mode": {
    "name": "ipython",
    "version": 3
   },
   "file_extension": ".py",
   "mimetype": "text/x-python",
   "name": "python",
   "nbconvert_exporter": "python",
   "pygments_lexer": "ipython3",
   "version": "3.9.17"
  }
 },
 "nbformat": 4,
 "nbformat_minor": 5
}
