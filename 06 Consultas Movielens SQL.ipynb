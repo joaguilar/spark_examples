{
 "cells": [
  {
   "cell_type": "code",
   "execution_count": 1,
   "id": "9698d0be",
   "metadata": {},
   "outputs": [
    {
     "name": "stderr",
     "output_type": "stream",
     "text": [
      "24/06/27 21:28:10 WARN Utils: Your hostname, Joses-MacBook-Air-2.local resolves to a loopback address: 127.0.0.1; using 192.168.100.124 instead (on interface en0)\n",
      "24/06/27 21:28:10 WARN Utils: Set SPARK_LOCAL_IP if you need to bind to another address\n",
      "Setting default log level to \"WARN\".\n",
      "To adjust logging level use sc.setLogLevel(newLevel). For SparkR, use setLogLevel(newLevel).\n",
      "24/06/27 21:28:11 WARN NativeCodeLoader: Unable to load native-hadoop library for your platform... using builtin-java classes where applicable\n"
     ]
    }
   ],
   "source": [
    "import findspark\n",
    "findspark.init('/Users/joseaguilar/Documents/Development/spark/spark-3.5.1-bin-hadoop3')\n",
    "from pyspark import *\n",
    "from pyspark.sql import SparkSession\n",
    "from pyspark.sql.types import StructType,StructField, StringType, IntegerType, DateType, TimestampType, LongType\n",
    "from pyspark.sql.types import ArrayType, DoubleType, BooleanType, DecimalType\n",
    "from pyspark.sql.functions import regexp_extract, split, from_unixtime, col, avg, min, max, desc\n",
    "from pyspark.sql.functions import grouping, explode, array_contains\n",
    "\n",
    "\n",
    "\n",
    "spark = SparkSession.builder.appName(\"movielens\").getOrCreate()"
   ]
  },
  {
   "cell_type": "markdown",
   "id": "961d716c",
   "metadata": {},
   "source": [
    "# Consultas sobre Movielens\n",
    "\n",
    "## Schema de Movielens\n",
    "\n",
    "![Schema](movielens_schema.png)\n",
    "\n",
    "## ¿Cuál es la distribución de la clasificación de las películas? \n",
    "\n",
    "Proceso:\n",
    "\n",
    "1. Cargar la tabla ratings\n",
    "1. Cargar la tabla movies\n",
    "1. Unir ambas tablas\n",
    "1. Agrupar por calificación\n",
    "1. Contar las películas\n"
   ]
  },
  {
   "cell_type": "markdown",
   "id": "7057ac9c",
   "metadata": {},
   "source": [
    "### Cargar las tablas"
   ]
  },
  {
   "cell_type": "code",
   "execution_count": 2,
   "id": "0e9b4a2d",
   "metadata": {},
   "outputs": [],
   "source": [
    "# Tabla Ratings\n",
    "ratings_schema  = StructType(fields=[\n",
    "    StructField(\"userId\",IntegerType(),True), \n",
    "    StructField(\"movieId\",IntegerType(),True),\n",
    "    StructField(\"rating\",DecimalType(precision=2,scale=1),True),\n",
    "    StructField(\"timestamp\",LongType(),True)\n",
    "])\n",
    "ratingsDf = spark.read\\\n",
    "    .option(\"header\", True)\\\n",
    "    .option(\"dateFormat\", \"yyyyMMdd\")\\\n",
    "    .schema(ratings_schema)\\\n",
    "    .csv(\"./ml-latest-small/ratings.csv\")\\\n",
    "    .withColumn(\\\n",
    "            \"date\",\\\n",
    "            from_unixtime(\"timestamp\", \"yyyyMMdd\"))\\\n",
    "                .drop('timestamp')\n",
    "\n",
    "# Tabla Movies\n",
    "movies_schema  = StructType(fields=[\n",
    "    StructField(\"movieId\",IntegerType(),True), \n",
    "    StructField(\"title\",StringType(),True),\n",
    "    StructField(\"genres\",StringType(),True)\n",
    "])\n",
    "\n",
    "moviesDf = spark.read\\\n",
    "    .option(\"header\", True)\\\n",
    "    .schema(movies_schema)\\\n",
    "    .csv(\"./ml-latest-small/movies.csv\")\n",
    "\n",
    "moviesDf = moviesDf.withColumn(\"genresSplit\", split(moviesDf[\"genres\"],\"\\|\"))\\\n",
    "                        .drop('genres').withColumnRenamed(\"genresSplit\",\"genres\")\\\n",
    "                            .withColumn(\\\n",
    "                                \"year\",\\\n",
    "                                regexp_extract(\\\n",
    "                                           moviesDf[\"title\"],\\\n",
    "                                           \"^.+\\(([0-9]+)\\)$\",\\\n",
    "                                           1)\\\n",
    "                                .cast(IntegerType()))\\\n",
    "                            .withColumn(\\\n",
    "                            \"title_temp\",\\\n",
    "                            regexp_extract(\\\n",
    "                                           moviesDf[\"title\"],\\\n",
    "                                           \"^(.+?) \\([0-9]+\\)$\",\\\n",
    "                                           1))\\\n",
    "                            .drop('title')\\\n",
    "                        .withColumnRenamed(\"title_temp\",\"title\")"
   ]
  },
  {
   "cell_type": "markdown",
   "id": "c7a71cf4",
   "metadata": {},
   "source": [
    "### Unir Ambas tablas"
   ]
  },
  {
   "cell_type": "code",
   "execution_count": 3,
   "id": "bd12f7d1",
   "metadata": {},
   "outputs": [
    {
     "data": {
      "text/plain": [
       "[Row(movieId=1, userId=1, rating=Decimal('4.0'), date='20000730', genres=['Adventure', 'Animation', 'Children', 'Comedy', 'Fantasy'], year=1995, title='Toy Story'),\n",
       " Row(movieId=3, userId=1, rating=Decimal('4.0'), date='20000730', genres=['Comedy', 'Romance'], year=1995, title='Grumpier Old Men'),\n",
       " Row(movieId=6, userId=1, rating=Decimal('4.0'), date='20000730', genres=['Action', 'Crime', 'Thriller'], year=1995, title='Heat')]"
      ]
     },
     "execution_count": 3,
     "metadata": {},
     "output_type": "execute_result"
    }
   ],
   "source": [
    "movie_ratingsDF = ratingsDf.join(moviesDf,on=\"movieId\",how=\"inner\")\n",
    "movie_ratingsDF.head(3)"
   ]
  },
  {
   "cell_type": "markdown",
   "id": "66536d45",
   "metadata": {},
   "source": [
    "### Mostrar la tabla"
   ]
  },
  {
   "cell_type": "code",
   "execution_count": 4,
   "id": "af2e3571",
   "metadata": {
    "scrolled": true
   },
   "outputs": [
    {
     "name": "stdout",
     "output_type": "stream",
     "text": [
      "+-------+------+------+--------+--------------------+----+----------------+\n",
      "|movieId|userId|rating|    date|              genres|year|           title|\n",
      "+-------+------+------+--------+--------------------+----+----------------+\n",
      "|      1|     1|   4.0|20000730|[Adventure, Anima...|1995|       Toy Story|\n",
      "|      3|     1|   4.0|20000730|   [Comedy, Romance]|1995|Grumpier Old Men|\n",
      "+-------+------+------+--------+--------------------+----+----------------+\n",
      "only showing top 2 rows\n",
      "\n"
     ]
    }
   ],
   "source": [
    "movie_ratingsDF.show(2)"
   ]
  },
  {
   "cell_type": "markdown",
   "id": "7357af26",
   "metadata": {},
   "source": [
    "Obtener todas las películas con una calificación superior a 4."
   ]
  },
  {
   "cell_type": "code",
   "execution_count": 6,
   "id": "fce649b4",
   "metadata": {},
   "outputs": [
    {
     "name": "stdout",
     "output_type": "stream",
     "text": [
      "+-------+------+------+--------+--------------------+----+--------------------+\n",
      "|movieId|userId|rating|    date|              genres|year|               title|\n",
      "+-------+------+------+--------+--------------------+----+--------------------+\n",
      "|     47|     1|   5.0|20000730| [Mystery, Thriller]|1995|Seven (a.k.a. Se7en)|\n",
      "|     50|     1|   5.0|20000730|[Crime, Mystery, ...|1995| Usual Suspects, The|\n",
      "|    101|     1|   5.0|20000730|[Adventure, Comed...|1996|       Bottle Rocket|\n",
      "|    151|     1|   5.0|20000730|[Action, Drama, R...|1995|             Rob Roy|\n",
      "|    157|     1|   5.0|20000730|       [Comedy, War]|1995|      Canadian Bacon|\n",
      "+-------+------+------+--------+--------------------+----+--------------------+\n",
      "only showing top 5 rows\n",
      "\n"
     ]
    }
   ],
   "source": [
    "movie_ratingsDF.createOrReplaceTempView(\"movies\")\n",
    "high_rated_movies = spark.sql(\"SELECT * FROM movies WHERE rating > 4\")\n",
    "high_rated_movies.show(5)"
   ]
  },
  {
   "cell_type": "markdown",
   "id": "cdf7a983",
   "metadata": {},
   "source": [
    "Calcular la calificación promedio por año."
   ]
  },
  {
   "cell_type": "code",
   "execution_count": 9,
   "id": "c251c056",
   "metadata": {},
   "outputs": [
    {
     "name": "stdout",
     "output_type": "stream",
     "text": [
      "+----+----------+\n",
      "|year|avg_rating|\n",
      "+----+----------+\n",
      "|2018|   3.48352|\n",
      "|2017|   3.57809|\n",
      "|2016|   3.38726|\n",
      "|2015|   3.41039|\n",
      "|2014|   3.51214|\n",
      "|2013|   3.45712|\n",
      "|2012|   3.51155|\n",
      "|2011|   3.46175|\n",
      "|2010|   3.56910|\n",
      "|2009|   3.56897|\n",
      "+----+----------+\n",
      "only showing top 10 rows\n",
      "\n"
     ]
    }
   ],
   "source": [
    "avg_ratings_by_year = spark.sql(\"SELECT year, AVG(rating) as avg_rating FROM movies GROUP BY year ORDER BY year DESC\")\n",
    "avg_ratings_by_year.show(10)"
   ]
  },
  {
   "cell_type": "markdown",
   "id": "6345242b",
   "metadata": {},
   "source": [
    "Convertir la fecha de string a timestamp y extraer el año."
   ]
  },
  {
   "cell_type": "code",
   "execution_count": 13,
   "id": "0b698320",
   "metadata": {
    "scrolled": true
   },
   "outputs": [
    {
     "ename": "AnalysisException",
     "evalue": "[UNRESOLVED_COLUMN.WITH_SUGGESTION] A column or function parameter with name `date2` cannot be resolved. Did you mean one of the following? [`date`, `title`, `rating`, `year`, `genres`].;\n'Project [movieId#1, userId#0, rating#2, date#379, genres#34, year#335, title#53, year('date2) AS year2#387]\n+- Project [movieId#1, userId#0, rating#2, to_date(date#327, Some(yyyyMMdd), Some(America/Costa_Rica), false) AS date#379, genres#34, year#335, title#53]\n   +- Project [movieId#1, userId#0, rating#2, date#327, genres#34, year(date#327) AS year#335, title#53]\n      +- Project [movieId#1, userId#0, rating#2, to_date(date#275, Some(yyyyMMdd), Some(America/Costa_Rica), false) AS date#327, genres#34, year#283, title#53]\n         +- Project [movieId#1, userId#0, rating#2, date#275, genres#34, year(date#275) AS year#283, title#53]\n            +- Project [movieId#1, userId#0, rating#2, to_date(date#8, Some(yyyyMMdd), Some(America/Costa_Rica), false) AS date#275, genres#34, year#38, title#53]\n               +- Project [movieId#1, userId#0, rating#2, date#8, genres#34, year#38, title#53]\n                  +- Join Inner, (movieId#1 = movieId#19)\n                     :- Project [userId#0, movieId#1, rating#2, date#8]\n                     :  +- Project [userId#0, movieId#1, rating#2, timestamp#3L, from_unixtime(timestamp#3L, yyyyMMdd, Some(America/Costa_Rica)) AS date#8]\n                     :     +- Relation [userId#0,movieId#1,rating#2,timestamp#3L] csv\n                     +- Project [movieId#19, genres#34, year#38, title_temp#43 AS title#53]\n                        +- Project [movieId#19, genres#34, year#38, title_temp#43]\n                           +- Project [movieId#19, title#20, genres#34, year#38, regexp_extract(title#20, ^(.+?) \\([0-9]+\\)$, 1) AS title_temp#43]\n                              +- Project [movieId#19, title#20, genres#34, cast(regexp_extract(title#20, ^.+\\(([0-9]+)\\)$, 1) as int) AS year#38]\n                                 +- Project [movieId#19, title#20, genresSplit#25 AS genres#34]\n                                    +- Project [movieId#19, title#20, genresSplit#25]\n                                       +- Project [movieId#19, title#20, genres#21, split(genres#21, \\|, -1) AS genresSplit#25]\n                                          +- Relation [movieId#19,title#20,genres#21] csv\n",
     "output_type": "error",
     "traceback": [
      "\u001b[0;31m---------------------------------------------------------------------------\u001b[0m",
      "\u001b[0;31mAnalysisException\u001b[0m                         Traceback (most recent call last)",
      "Input \u001b[0;32mIn [13]\u001b[0m, in \u001b[0;36m<cell line: 4>\u001b[0;34m()\u001b[0m\n\u001b[1;32m      1\u001b[0m \u001b[38;5;28;01mfrom\u001b[39;00m \u001b[38;5;21;01mpyspark\u001b[39;00m\u001b[38;5;21;01m.\u001b[39;00m\u001b[38;5;21;01msql\u001b[39;00m\u001b[38;5;21;01m.\u001b[39;00m\u001b[38;5;21;01mfunctions\u001b[39;00m \u001b[38;5;28;01mimport\u001b[39;00m col, year, to_date\n\u001b[1;32m      3\u001b[0m movie_ratingsDF \u001b[38;5;241m=\u001b[39m movie_ratingsDF\u001b[38;5;241m.\u001b[39mwithColumn(\u001b[38;5;124m\"\u001b[39m\u001b[38;5;124mdate\u001b[39m\u001b[38;5;124m\"\u001b[39m, to_date(col(\u001b[38;5;124m\"\u001b[39m\u001b[38;5;124mdate\u001b[39m\u001b[38;5;124m\"\u001b[39m), \u001b[38;5;124m\"\u001b[39m\u001b[38;5;124myyyyMMdd\u001b[39m\u001b[38;5;124m\"\u001b[39m))\n\u001b[0;32m----> 4\u001b[0m movie_ratingsDF \u001b[38;5;241m=\u001b[39m \u001b[43mmovie_ratingsDF\u001b[49m\u001b[38;5;241;43m.\u001b[39;49m\u001b[43mwithColumn\u001b[49m\u001b[43m(\u001b[49m\u001b[38;5;124;43m\"\u001b[39;49m\u001b[38;5;124;43myear2\u001b[39;49m\u001b[38;5;124;43m\"\u001b[39;49m\u001b[43m,\u001b[49m\u001b[43m \u001b[49m\u001b[43myear\u001b[49m\u001b[43m(\u001b[49m\u001b[43mcol\u001b[49m\u001b[43m(\u001b[49m\u001b[38;5;124;43m\"\u001b[39;49m\u001b[38;5;124;43mdate2\u001b[39;49m\u001b[38;5;124;43m\"\u001b[39;49m\u001b[43m)\u001b[49m\u001b[43m)\u001b[49m\u001b[43m)\u001b[49m\n\u001b[1;32m      5\u001b[0m movie_ratingsDF\u001b[38;5;241m.\u001b[39mshow(\u001b[38;5;241m20\u001b[39m)\n",
      "File \u001b[0;32m~/Documents/Development/spark/spark-3.5.1-bin-hadoop3/python/pyspark/sql/dataframe.py:5174\u001b[0m, in \u001b[0;36mDataFrame.withColumn\u001b[0;34m(self, colName, col)\u001b[0m\n\u001b[1;32m   5169\u001b[0m \u001b[38;5;28;01mif\u001b[39;00m \u001b[38;5;129;01mnot\u001b[39;00m \u001b[38;5;28misinstance\u001b[39m(col, Column):\n\u001b[1;32m   5170\u001b[0m     \u001b[38;5;28;01mraise\u001b[39;00m PySparkTypeError(\n\u001b[1;32m   5171\u001b[0m         error_class\u001b[38;5;241m=\u001b[39m\u001b[38;5;124m\"\u001b[39m\u001b[38;5;124mNOT_COLUMN\u001b[39m\u001b[38;5;124m\"\u001b[39m,\n\u001b[1;32m   5172\u001b[0m         message_parameters\u001b[38;5;241m=\u001b[39m{\u001b[38;5;124m\"\u001b[39m\u001b[38;5;124marg_name\u001b[39m\u001b[38;5;124m\"\u001b[39m: \u001b[38;5;124m\"\u001b[39m\u001b[38;5;124mcol\u001b[39m\u001b[38;5;124m\"\u001b[39m, \u001b[38;5;124m\"\u001b[39m\u001b[38;5;124marg_type\u001b[39m\u001b[38;5;124m\"\u001b[39m: \u001b[38;5;28mtype\u001b[39m(col)\u001b[38;5;241m.\u001b[39m\u001b[38;5;18m__name__\u001b[39m},\n\u001b[1;32m   5173\u001b[0m     )\n\u001b[0;32m-> 5174\u001b[0m \u001b[38;5;28;01mreturn\u001b[39;00m DataFrame(\u001b[38;5;28;43mself\u001b[39;49m\u001b[38;5;241;43m.\u001b[39;49m\u001b[43m_jdf\u001b[49m\u001b[38;5;241;43m.\u001b[39;49m\u001b[43mwithColumn\u001b[49m\u001b[43m(\u001b[49m\u001b[43mcolName\u001b[49m\u001b[43m,\u001b[49m\u001b[43m \u001b[49m\u001b[43mcol\u001b[49m\u001b[38;5;241;43m.\u001b[39;49m\u001b[43m_jc\u001b[49m\u001b[43m)\u001b[49m, \u001b[38;5;28mself\u001b[39m\u001b[38;5;241m.\u001b[39msparkSession)\n",
      "File \u001b[0;32m~/Documents/Development/spark/spark-3.5.1-bin-hadoop3/python/lib/py4j-0.10.9.7-src.zip/py4j/java_gateway.py:1322\u001b[0m, in \u001b[0;36mJavaMember.__call__\u001b[0;34m(self, *args)\u001b[0m\n\u001b[1;32m   1316\u001b[0m command \u001b[38;5;241m=\u001b[39m proto\u001b[38;5;241m.\u001b[39mCALL_COMMAND_NAME \u001b[38;5;241m+\u001b[39m\\\n\u001b[1;32m   1317\u001b[0m     \u001b[38;5;28mself\u001b[39m\u001b[38;5;241m.\u001b[39mcommand_header \u001b[38;5;241m+\u001b[39m\\\n\u001b[1;32m   1318\u001b[0m     args_command \u001b[38;5;241m+\u001b[39m\\\n\u001b[1;32m   1319\u001b[0m     proto\u001b[38;5;241m.\u001b[39mEND_COMMAND_PART\n\u001b[1;32m   1321\u001b[0m answer \u001b[38;5;241m=\u001b[39m \u001b[38;5;28mself\u001b[39m\u001b[38;5;241m.\u001b[39mgateway_client\u001b[38;5;241m.\u001b[39msend_command(command)\n\u001b[0;32m-> 1322\u001b[0m return_value \u001b[38;5;241m=\u001b[39m \u001b[43mget_return_value\u001b[49m\u001b[43m(\u001b[49m\n\u001b[1;32m   1323\u001b[0m \u001b[43m    \u001b[49m\u001b[43manswer\u001b[49m\u001b[43m,\u001b[49m\u001b[43m \u001b[49m\u001b[38;5;28;43mself\u001b[39;49m\u001b[38;5;241;43m.\u001b[39;49m\u001b[43mgateway_client\u001b[49m\u001b[43m,\u001b[49m\u001b[43m \u001b[49m\u001b[38;5;28;43mself\u001b[39;49m\u001b[38;5;241;43m.\u001b[39;49m\u001b[43mtarget_id\u001b[49m\u001b[43m,\u001b[49m\u001b[43m \u001b[49m\u001b[38;5;28;43mself\u001b[39;49m\u001b[38;5;241;43m.\u001b[39;49m\u001b[43mname\u001b[49m\u001b[43m)\u001b[49m\n\u001b[1;32m   1325\u001b[0m \u001b[38;5;28;01mfor\u001b[39;00m temp_arg \u001b[38;5;129;01min\u001b[39;00m temp_args:\n\u001b[1;32m   1326\u001b[0m     \u001b[38;5;28;01mif\u001b[39;00m \u001b[38;5;28mhasattr\u001b[39m(temp_arg, \u001b[38;5;124m\"\u001b[39m\u001b[38;5;124m_detach\u001b[39m\u001b[38;5;124m\"\u001b[39m):\n",
      "File \u001b[0;32m~/Documents/Development/spark/spark-3.5.1-bin-hadoop3/python/pyspark/errors/exceptions/captured.py:185\u001b[0m, in \u001b[0;36mcapture_sql_exception.<locals>.deco\u001b[0;34m(*a, **kw)\u001b[0m\n\u001b[1;32m    181\u001b[0m converted \u001b[38;5;241m=\u001b[39m convert_exception(e\u001b[38;5;241m.\u001b[39mjava_exception)\n\u001b[1;32m    182\u001b[0m \u001b[38;5;28;01mif\u001b[39;00m \u001b[38;5;129;01mnot\u001b[39;00m \u001b[38;5;28misinstance\u001b[39m(converted, UnknownException):\n\u001b[1;32m    183\u001b[0m     \u001b[38;5;66;03m# Hide where the exception came from that shows a non-Pythonic\u001b[39;00m\n\u001b[1;32m    184\u001b[0m     \u001b[38;5;66;03m# JVM exception message.\u001b[39;00m\n\u001b[0;32m--> 185\u001b[0m     \u001b[38;5;28;01mraise\u001b[39;00m converted \u001b[38;5;28;01mfrom\u001b[39;00m \u001b[38;5;28;01mNone\u001b[39;00m\n\u001b[1;32m    186\u001b[0m \u001b[38;5;28;01melse\u001b[39;00m:\n\u001b[1;32m    187\u001b[0m     \u001b[38;5;28;01mraise\u001b[39;00m\n",
      "\u001b[0;31mAnalysisException\u001b[0m: [UNRESOLVED_COLUMN.WITH_SUGGESTION] A column or function parameter with name `date2` cannot be resolved. Did you mean one of the following? [`date`, `title`, `rating`, `year`, `genres`].;\n'Project [movieId#1, userId#0, rating#2, date#379, genres#34, year#335, title#53, year('date2) AS year2#387]\n+- Project [movieId#1, userId#0, rating#2, to_date(date#327, Some(yyyyMMdd), Some(America/Costa_Rica), false) AS date#379, genres#34, year#335, title#53]\n   +- Project [movieId#1, userId#0, rating#2, date#327, genres#34, year(date#327) AS year#335, title#53]\n      +- Project [movieId#1, userId#0, rating#2, to_date(date#275, Some(yyyyMMdd), Some(America/Costa_Rica), false) AS date#327, genres#34, year#283, title#53]\n         +- Project [movieId#1, userId#0, rating#2, date#275, genres#34, year(date#275) AS year#283, title#53]\n            +- Project [movieId#1, userId#0, rating#2, to_date(date#8, Some(yyyyMMdd), Some(America/Costa_Rica), false) AS date#275, genres#34, year#38, title#53]\n               +- Project [movieId#1, userId#0, rating#2, date#8, genres#34, year#38, title#53]\n                  +- Join Inner, (movieId#1 = movieId#19)\n                     :- Project [userId#0, movieId#1, rating#2, date#8]\n                     :  +- Project [userId#0, movieId#1, rating#2, timestamp#3L, from_unixtime(timestamp#3L, yyyyMMdd, Some(America/Costa_Rica)) AS date#8]\n                     :     +- Relation [userId#0,movieId#1,rating#2,timestamp#3L] csv\n                     +- Project [movieId#19, genres#34, year#38, title_temp#43 AS title#53]\n                        +- Project [movieId#19, genres#34, year#38, title_temp#43]\n                           +- Project [movieId#19, title#20, genres#34, year#38, regexp_extract(title#20, ^(.+?) \\([0-9]+\\)$, 1) AS title_temp#43]\n                              +- Project [movieId#19, title#20, genres#34, cast(regexp_extract(title#20, ^.+\\(([0-9]+)\\)$, 1) as int) AS year#38]\n                                 +- Project [movieId#19, title#20, genresSplit#25 AS genres#34]\n                                    +- Project [movieId#19, title#20, genresSplit#25]\n                                       +- Project [movieId#19, title#20, genres#21, split(genres#21, \\|, -1) AS genresSplit#25]\n                                          +- Relation [movieId#19,title#20,genres#21] csv\n"
     ]
    }
   ],
   "source": [
    "from pyspark.sql.functions import col, year, to_date\n",
    "\n",
    "movie_ratingsDF = movie_ratingsDF.withColumn(\"date\", to_date(col(\"date\"), \"yyyyMMdd\"))\n",
    "movie_ratingsDF = movie_ratingsDF.withColumn(\"year2\", year(col(\"date2\")))\n",
    "movie_ratingsDF.show(20)\n"
   ]
  },
  {
   "cell_type": "markdown",
   "id": "1cdb52b9",
   "metadata": {},
   "source": [
    "Filtrar películas del género 'Comedy' y ordenarlas por calificación descendente."
   ]
  },
  {
   "cell_type": "code",
   "execution_count": 14,
   "id": "e6f4aab8",
   "metadata": {},
   "outputs": [
    {
     "name": "stdout",
     "output_type": "stream",
     "text": [
      "+-------+------+------+--------+--------------------+----+--------------------+\n",
      "|movieId|userId|rating|    date|              genres|year|               title|\n",
      "+-------+------+------+--------+--------------------+----+--------------------+\n",
      "|   2141|     1|   5.0|20000730|[Adventure, Anima...|1986|   American Tail, An|\n",
      "|  60756|     2|   5.0|20151024|            [Comedy]|2008|       Step Brothers|\n",
      "|   2387|     1|   5.0|20000730|     [Comedy, Crime]|1998|     Very Bad Things|\n",
      "|    157|     1|   5.0|20000730|       [Comedy, War]|1995|      Canadian Bacon|\n",
      "|   2395|     1|   5.0|20000730|     [Comedy, Drama]|1998|            Rushmore|\n",
      "|    231|     1|   5.0|20000730| [Adventure, Comedy]|1994|Dumb & Dumber (Du...|\n",
      "|   2470|     1|   5.0|20000730| [Adventure, Comedy]|1986|    Crocodile Dundee|\n",
      "|    608|     1|   5.0|20000730|[Comedy, Crime, D...|1996|               Fargo|\n",
      "|   2502|     1|   5.0|20000730|     [Comedy, Crime]|1999|        Office Space|\n",
      "|   1073|     1|   5.0|20000730|[Children, Comedy...|1971|Willy Wonka & the...|\n",
      "|   2542|     1|   5.0|20000730|[Comedy, Crime, T...|1998|Lock, Stock & Two...|\n",
      "|   1136|     1|   5.0|20000730|[Adventure, Comed...|1975|Monty Python and ...|\n",
      "|   2580|     1|   5.0|20000730|     [Comedy, Crime]|1999|                  Go|\n",
      "|   1220|     1|   5.0|20000730|[Action, Comedy, ...|1980| Blues Brothers, The|\n",
      "|   2596|     1|   5.0|20000730|     [Comedy, Drama]|1998|           SLC Punk!|\n",
      "|   1270|     1|   5.0|20000730|[Adventure, Comed...|1985|  Back to the Future|\n",
      "|   2700|     1|   5.0|20000730|[Animation, Comed...|1999|South Park: Bigge...|\n",
      "|   1517|     1|   5.0|20000730|[Action, Adventur...|1997|Austin Powers: In...|\n",
      "|   2716|     1|   5.0|20000730|[Action, Comedy, ...|1984|Ghostbusters (a.k...|\n",
      "|   2005|     1|   5.0|20000730|[Action, Adventur...|1985|        Goonies, The|\n",
      "+-------+------+------+--------+--------------------+----+--------------------+\n",
      "only showing top 20 rows\n",
      "\n"
     ]
    }
   ],
   "source": [
    "comedy_movies = spark.sql(\"\"\"\n",
    "  SELECT * \n",
    "  FROM movies \n",
    "  WHERE array_contains(genres, 'Comedy') \n",
    "  ORDER BY rating DESC\n",
    "\"\"\")\n",
    "comedy_movies.show()\n"
   ]
  },
  {
   "cell_type": "markdown",
   "id": "25b6b096",
   "metadata": {},
   "source": []
  },
  {
   "cell_type": "code",
   "execution_count": null,
   "id": "88e44e25",
   "metadata": {},
   "outputs": [],
   "source": []
  }
 ],
 "metadata": {
  "kernelspec": {
   "display_name": "Python 3 (ipykernel)",
   "language": "python",
   "name": "python3"
  },
  "language_info": {
   "codemirror_mode": {
    "name": "ipython",
    "version": 3
   },
   "file_extension": ".py",
   "mimetype": "text/x-python",
   "name": "python",
   "nbconvert_exporter": "python",
   "pygments_lexer": "ipython3",
   "version": "3.9.17"
  }
 },
 "nbformat": 4,
 "nbformat_minor": 5
}
