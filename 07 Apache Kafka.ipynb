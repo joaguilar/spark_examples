{
 "cells": [
  {
   "cell_type": "markdown",
   "id": "ca2e4e80",
   "metadata": {},
   "source": [
    "# Instalación del cliente de Kafka"
   ]
  },
  {
   "cell_type": "code",
   "execution_count": null,
   "id": "471b9fdc",
   "metadata": {
    "scrolled": true
   },
   "outputs": [],
   "source": [
    "!pip install kafka-python"
   ]
  },
  {
   "cell_type": "markdown",
   "id": "4c211789",
   "metadata": {},
   "source": [
    "# Pasos para instalar Kafka\n",
    "\n",
    "## Descargar Apache Kafka\n",
    "\n",
    "https://kafka.apache.org/downloads\n",
    "\n",
    "Para este ejercicio usamos la versión 3.7.0 hecha para Scala 2.13\n",
    "\n",
    "## Descomprimir el archivo descargado\n",
    "\n",
    "```\n",
    "tar zxvf kafka_2.13-3.7.0.tgz\n",
    "```\n",
    "\n",
    "## Ejecutar ZooKeeper\n",
    "\n",
    "```\n",
    "cd kafka_2.13-3.7.0\n",
    "bin/zookeeper-server-start.sh config/zookeeper.properties\n",
    "```\n",
    "\n",
    "## Ejecutar Kafka\n",
    "\n",
    "```\n",
    "cd kafka_2.13-3.7.0\n",
    "bin/kafka-server-start.sh config/server.properties\n",
    "```"
   ]
  },
  {
   "cell_type": "markdown",
   "id": "3497fc96",
   "metadata": {},
   "source": [
    "# Ejemplo: Producir mensajes\n",
    "\n",
    "En el siguiente ejemplo producimos 10 mensajes con Kafka y los enviamos al topic (cola) `test-topic`"
   ]
  },
  {
   "cell_type": "code",
   "execution_count": null,
   "id": "5c483b84",
   "metadata": {},
   "outputs": [],
   "source": [
    "from kafka import KafkaProducer\n",
    "\n",
    "producer = KafkaProducer(bootstrap_servers='localhost:9092')\n",
    "topic = 'test-topic'\n",
    "\n",
    "for i in range(10):\n",
    "    message = f'Mensaje {i}'\n",
    "    producer.send(topic, value=message.encode('utf-8'))\n",
    "\n",
    "producer.flush()\n",
    "producer.close()\n"
   ]
  },
  {
   "cell_type": "markdown",
   "id": "d24b352b",
   "metadata": {},
   "source": [
    "# Monitoreo: Cluster Manager for Apache Kafka (CMAK)\n",
    "\n",
    "## Documentación\n",
    "\n",
    "[Cluster Manager for Apache Karfka](https://github.com/yahoo/CMAK)\n",
    "\n",
    "Proyecto desactualizado, ver en la presentacion las herramientas recomendadas comerciales hoy en día.\n",
    "\n",
    "\n",
    "## Instrucciones de Instalación\n",
    "\n",
    "### Obtener el código\n",
    "\n",
    "```\n",
    "git clone https://github.com/yahoo/kafka-manager\n",
    "```\n",
    "\n",
    "### Construirlo:\n",
    "\n",
    "```\n",
    "cd kafka-manager\n",
    "./sbt clean dist\n",
    "```\n",
    "\n",
    "Nota: Necesita tener `sbt` (*[simple build tool](https://www.scala-sbt.org/)*) instalado. En caso de no tenerlo, en MacOS se instala con `brew install sbt`\n",
    "\n",
    "### Ejecutarlo\n",
    "\n",
    "#### Pasarse al directorio del ejecutable\n",
    "\n",
    "```\n",
    "cd target/universal\n",
    "```\n",
    "\n",
    "#### Abrir el zip:\n",
    "\n",
    "```\n",
    "unzip cmak-3.0.0.7.zip\n",
    "```\n",
    "\n",
    "#### Pasarse al nuevo directorio:\n",
    "\n",
    "```\n",
    "cd cmak-3.0.0.7\n",
    "```\n",
    "\n",
    "#### Ejecutarlo\n",
    "\n",
    "Editar el archivo `conf/application.conf` y apuntarlo a zookeeper local:\n",
    "\n",
    "```\n",
    "# Settings prefixed with 'kafka-manager.' will be deprecated, use 'cmak.' instead.\n",
    "# https://github.com/yahoo/CMAK/issues/713\n",
    "#kafka-manager.zkhosts=\"localhost:2181\"\n",
    "#kafka-manager.zkhosts=${?ZK_HOSTS}\n",
    "cmak.zkhosts=\"localhost:2181\"\n",
    "#cmak.zkhosts=${?ZK_HOSTS}\n",
    "```\n",
    "\n",
    "Ejecutar CMAK:\n",
    "\n",
    "```\n",
    "bin/cmak\n",
    "```\n",
    "\n",
    "## Acceder CMAK\n",
    "\n",
    "[CMAK](http://localhost:9000)"
   ]
  },
  {
   "cell_type": "markdown",
   "id": "dc92d992",
   "metadata": {},
   "source": [
    "# Ejemplo: Leer mensajes\n",
    "\n",
    "Podemos entonces sacar mensajes de la cola `test-topic`"
   ]
  },
  {
   "cell_type": "code",
   "execution_count": null,
   "id": "9302923f",
   "metadata": {},
   "outputs": [],
   "source": [
    "from kafka import KafkaConsumer\n",
    "\n",
    "consumer = KafkaConsumer('test-topic', bootstrap_servers='localhost:9092', auto_offset_reset='earliest')\n",
    "\n",
    "for message in consumer:\n",
    "    print(f'Recibido: {message.value.decode(\"utf-8\")}')\n"
   ]
  }
 ],
 "metadata": {
  "kernelspec": {
   "display_name": "Python 3 (ipykernel)",
   "language": "python",
   "name": "python3"
  },
  "language_info": {
   "codemirror_mode": {
    "name": "ipython",
    "version": 3
   },
   "file_extension": ".py",
   "mimetype": "text/x-python",
   "name": "python",
   "nbconvert_exporter": "python",
   "pygments_lexer": "ipython3",
   "version": "3.9.17"
  }
 },
 "nbformat": 4,
 "nbformat_minor": 5
}
