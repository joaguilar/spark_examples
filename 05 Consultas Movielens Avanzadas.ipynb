{
 "cells": [
  {
   "cell_type": "code",
   "execution_count": 19,
   "id": "9698d0be",
   "metadata": {},
   "outputs": [],
   "source": [
    "import findspark\n",
    "findspark.init('/spark/spark-3.5.1-bin-hadoop3')\n",
    "from pyspark import *\n",
    "from pyspark.sql import SparkSession\n",
    "from pyspark.sql.types import StructType,StructField, StringType, IntegerType, DateType, TimestampType, LongType\n",
    "from pyspark.sql.types import ArrayType, DoubleType, BooleanType, DecimalType\n",
    "from pyspark.sql.functions import regexp_extract, split, from_unixtime, col, avg, min, max, desc\n",
    "from pyspark.sql.functions import grouping, explode, array_contains\n",
    "\n",
    "\n",
    "\n",
    "spark = SparkSession.builder.appName(\"movielens\").getOrCreate()"
   ]
  },
  {
   "cell_type": "markdown",
   "id": "961d716c",
   "metadata": {},
   "source": [
    "# Consultas sobre Movielens\n",
    "\n",
    "## Schema de Movielens\n",
    "\n",
    "![Schema](movielens_schema.png)\n",
    "\n",
    "## ¿Cuál es la distribución de la clasificación de las películas? \n",
    "\n",
    "Proceso:\n",
    "\n",
    "1. Cargar la tabla ratings\n",
    "1. Cargar la tabla movies\n",
    "1. Unir ambas tablas\n",
    "1. Agrupar por calificación\n",
    "1. Contar las películas\n"
   ]
  },
  {
   "cell_type": "markdown",
   "id": "7057ac9c",
   "metadata": {},
   "source": [
    "### Cargar las tablas"
   ]
  },
  {
   "cell_type": "code",
   "execution_count": 2,
   "id": "0e9b4a2d",
   "metadata": {},
   "outputs": [],
   "source": [
    "# Tabla Ratings\n",
    "ratings_schema  = StructType(fields=[\n",
    "    StructField(\"userId\",IntegerType(),True), \n",
    "    StructField(\"movieId\",IntegerType(),True),\n",
    "    StructField(\"rating\",DecimalType(precision=2,scale=1),True),\n",
    "    StructField(\"timestamp\",LongType(),True)\n",
    "])\n",
    "ratingsDf = spark.read\\\n",
    "    .option(\"header\", True)\\\n",
    "    .option(\"dateFormat\", \"yyyyMMdd\")\\\n",
    "    .schema(ratings_schema)\\\n",
    "    .csv(\"./ml-latest-small/ratings.csv\")\\\n",
    "    .withColumn(\\\n",
    "            \"date\",\\\n",
    "            from_unixtime(\"timestamp\", \"yyyyMMdd\"))\\\n",
    "                .drop('timestamp')\n",
    "\n",
    "# Tabla Movies\n",
    "movies_schema  = StructType(fields=[\n",
    "    StructField(\"movieId\",IntegerType(),True), \n",
    "    StructField(\"title\",StringType(),True),\n",
    "    StructField(\"genres\",StringType(),True)\n",
    "])\n",
    "\n",
    "moviesDf = spark.read\\\n",
    "    .option(\"header\", True)\\\n",
    "    .schema(movies_schema)\\\n",
    "    .csv(\"./ml-latest-small/movies.csv\")\n",
    "\n",
    "moviesDf = moviesDf.withColumn(\"genresSplit\", split(moviesDf[\"genres\"],\"\\|\"))\\\n",
    "                        .drop('genres').withColumnRenamed(\"genresSplit\",\"genres\")\\\n",
    "                            .withColumn(\\\n",
    "                                \"year\",\\\n",
    "                                regexp_extract(\\\n",
    "                                           moviesDf[\"title\"],\\\n",
    "                                           \"^.+\\(([0-9]+)\\)$\",\\\n",
    "                                           1)\\\n",
    "                                .cast(IntegerType()))\\\n",
    "                            .withColumn(\\\n",
    "                            \"title_temp\",\\\n",
    "                            regexp_extract(\\\n",
    "                                           moviesDf[\"title\"],\\\n",
    "                                           \"^(.+?) \\([0-9]+\\)$\",\\\n",
    "                                           1))\\\n",
    "                            .drop('title')\\\n",
    "                        .withColumnRenamed(\"title_temp\",\"title\")"
   ]
  },
  {
   "cell_type": "markdown",
   "id": "c7a71cf4",
   "metadata": {},
   "source": [
    "### Unir Ambas tablas"
   ]
  },
  {
   "cell_type": "code",
   "execution_count": 3,
   "id": "bd12f7d1",
   "metadata": {},
   "outputs": [
    {
     "data": {
      "text/plain": [
       "[Row(movieId=1, userId=1, rating=Decimal('4.0'), date='20000730', genres=['Adventure', 'Animation', 'Children', 'Comedy', 'Fantasy'], year=1995, title='Toy Story'),\n",
       " Row(movieId=3, userId=1, rating=Decimal('4.0'), date='20000730', genres=['Comedy', 'Romance'], year=1995, title='Grumpier Old Men'),\n",
       " Row(movieId=6, userId=1, rating=Decimal('4.0'), date='20000730', genres=['Action', 'Crime', 'Thriller'], year=1995, title='Heat')]"
      ]
     },
     "execution_count": 3,
     "metadata": {},
     "output_type": "execute_result"
    }
   ],
   "source": [
    "movie_ratingsDF = ratingsDf.join(moviesDf,on=\"movieId\",how=\"inner\")\n",
    "movie_ratingsDF.head(3)"
   ]
  },
  {
   "cell_type": "markdown",
   "id": "66536d45",
   "metadata": {},
   "source": [
    "### Filtros"
   ]
  },
  {
   "cell_type": "code",
   "execution_count": 9,
   "id": "c5413aec",
   "metadata": {},
   "outputs": [
    {
     "data": {
      "text/plain": [
       "[Row(rating=Decimal('4.0'), genres=['Comedy', 'Drama', 'Romance', 'War']),\n",
       " Row(rating=Decimal('5.0'), genres=['Comedy', 'Drama', 'Romance', 'War']),\n",
       " Row(rating=Decimal('5.0'), genres=['Comedy', 'Drama', 'Romance', 'War'])]"
      ]
     },
     "execution_count": 9,
     "metadata": {},
     "output_type": "execute_result"
    }
   ],
   "source": [
    "movie_ratingsDF.filter(\"movieId = 356\").select([\"rating\",\"genres\"]).head(3)"
   ]
  },
  {
   "cell_type": "code",
   "execution_count": 16,
   "id": "aa21901b",
   "metadata": {
    "scrolled": true
   },
   "outputs": [
    {
     "data": {
      "text/plain": [
       "[Row(rating=Decimal('5.0'), genres=['Drama', 'War']),\n",
       " Row(rating=Decimal('5.0'), genres=['Drama', 'Mystery']),\n",
       " Row(rating=Decimal('4.0'), genres=['Drama', 'Fantasy', 'Romance'])]"
      ]
     },
     "execution_count": 16,
     "metadata": {},
     "output_type": "execute_result"
    }
   ],
   "source": [
    "movie_ratingsDF.filter(col('genres').getItem(0) == 'Drama').select([\"rating\",\"genres\"]).head(3)"
   ]
  },
  {
   "cell_type": "code",
   "execution_count": 21,
   "id": "7b9feddf",
   "metadata": {},
   "outputs": [
    {
     "data": {
      "text/plain": [
       "[Row(rating=Decimal('4.0'), genres=['Action', 'Drama', 'War']),\n",
       " Row(rating=Decimal('5.0'), genres=['Action', 'Drama', 'Romance', 'War']),\n",
       " Row(rating=Decimal('4.0'), genres=['Comedy', 'Drama']),\n",
       " Row(rating=Decimal('3.0'), genres=['Comedy', 'Crime', 'Drama', 'Thriller']),\n",
       " Row(rating=Decimal('4.0'), genres=['Action', 'Crime', 'Drama', 'Thriller']),\n",
       " Row(rating=Decimal('4.0'), genres=['Comedy', 'Drama', 'Romance', 'War']),\n",
       " Row(rating=Decimal('3.0'), genres=['Comedy', 'Drama']),\n",
       " Row(rating=Decimal('5.0'), genres=['Drama', 'War']),\n",
       " Row(rating=Decimal('5.0'), genres=['Action', 'Drama', 'Western']),\n",
       " Row(rating=Decimal('4.0'), genres=['Adventure', 'Drama', 'Western'])]"
      ]
     },
     "execution_count": 21,
     "metadata": {},
     "output_type": "execute_result"
    }
   ],
   "source": [
    "movie_ratingsDF.filter(array_contains(movie_ratingsDF.genres,'Drama')).select([\"rating\",\"genres\"]).head(10)"
   ]
  },
  {
   "cell_type": "markdown",
   "id": "bf10fa81",
   "metadata": {},
   "source": [
    "# Funciones de Ventana en PySpark\n",
    "\n",
    "## ¿Qué son las Funciones de Ventana?\n",
    "\n",
    "Las funciones de ventana en PySpark permiten realizar cálculos avanzados sobre un conjunto específico de filas relacionadas, conocidas como \"ventanas\", sin la necesidad de agrupar los datos en su totalidad. Estas funciones son muy útiles para realizar análisis complejos y obtener insights detallados de los datos, manteniendo el contexto de cada fila.\n",
    "\n",
    "### Características Principales de las Funciones de Ventana\n",
    "\n",
    "1. **Cálculos sin Agrupamiento Completo:**\n",
    "   - Las funciones de ventana permiten realizar operaciones como promedios, sumas, y rankings dentro de una partición de datos sin agrupar completamente los datos.\n",
    "   \n",
    "2. **Contexto Manteniendo el Orden:**\n",
    "   - Mantienen el contexto de cada fila dentro de una partición, permitiendo realizar cálculos acumulativos y de comparación.\n",
    "   \n",
    "3. **Ventanas Definidas Dinámicamente:**\n",
    "   - Las ventanas pueden ser definidas basándose en particiones y órdenes específicos, lo que permite una gran flexibilidad en el análisis de datos.\n",
    "\n",
    "### Tipos Comunes de Funciones de Ventana\n",
    "\n",
    "- **Agregaciones:**\n",
    "  - `avg()`, `sum()`, `min()`, `max()`: Calculan el promedio, suma, mínimo y máximo dentro de la ventana.\n",
    "  \n",
    "- **Funciones de Rango y Ranking:**\n",
    "  - `row_number()`, `rank()`, `dense_rank()`: Asignan números de fila y rangos dentro de la ventana.\n",
    "\n",
    "- **Funciones de Desplazamiento:**\n",
    "  - `lag()`, `lead()`: Permiten acceder a las filas anteriores o siguientes dentro de la ventana.\n",
    "\n",
    "### Ejemplo de Uso\n",
    "\n",
    "Considere un DataFrame de calificaciones de películas, donde queremos calcular el promedio de calificaciones por usuario, el ranking de calificaciones por género y año, y el cambio de calificación respecto a la calificación anterior dada por el mismo usuario. Las funciones de ventana nos permiten realizar estos cálculos de manera eficiente y mantener el contexto de cada calificación individual.\n",
    "\n",
    "Con las funciones de ventana, podemos transformar y analizar los datos de manera avanzada, obteniendo insights que serían difíciles de lograr con simples agregaciones o transformaciones básicas.\n",
    "\n"
   ]
  },
  {
   "cell_type": "markdown",
   "id": "6bcb5e44",
   "metadata": {},
   "source": [
    "### Calcular el Promedio de Calificaciones por Usuario\n",
    "\n",
    "En este ejemplo, calcularemos el promedio de calificaciones de cada usuario para todas las películas que han calificado. Usaremos la función de ventana avg para realizar este cálculo.\n",
    "\n"
   ]
  },
  {
   "cell_type": "code",
   "execution_count": 25,
   "id": "89ffc388",
   "metadata": {
    "scrolled": true
   },
   "outputs": [
    {
     "name": "stdout",
     "output_type": "stream",
     "text": [
      "+-------+------+------+--------+--------------------+----+--------------------+--------------+\n",
      "|movieId|userId|rating|    date|              genres|year|               title|average_rating|\n",
      "+-------+------+------+--------+--------------------+----+--------------------+--------------+\n",
      "|     39|    12|   4.0|20090710|   [Comedy, Romance]|1995|            Clueless|       4.39063|\n",
      "|    168|    12|   5.0|20090710|[Action, Drama, R...|1995|        First Knight|       4.39063|\n",
      "|    222|    12|   5.0|20090710|    [Drama, Romance]|1995|   Circle of Friends|       4.39063|\n",
      "|    256|    12|   5.0|20090710|    [Comedy, Sci-Fi]|1994|              Junior|       4.39063|\n",
      "|    261|    12|   4.5|20090710|             [Drama]|1994|        Little Women|       4.39063|\n",
      "|    277|    12|   3.0|20090710|             [Drama]|1994|Miracle on 34th S...|       4.39063|\n",
      "|    357|    12|   3.5|20090710|   [Comedy, Romance]|1994|Four Weddings and...|       4.39063|\n",
      "|    543|    12|   3.5|20090710|[Comedy, Romance,...|1993|So I Married an A...|       4.39063|\n",
      "|    830|    12|   4.0|20090710|            [Comedy]|1996|First Wives Club,...|       4.39063|\n",
      "|    838|    12|   5.0|20090710|[Comedy, Drama, R...|1996|                Emma|       4.39063|\n",
      "|    920|    12|   4.5|20090710|[Drama, Romance, ...|1939|  Gone with the Wind|       4.39063|\n",
      "|   1265|    12|   3.5|20090710|[Comedy, Fantasy,...|1993|       Groundhog Day|       4.39063|\n",
      "|   1357|    12|   5.0|20090710|    [Drama, Romance]|1996|               Shine|       4.39063|\n",
      "|   1405|    12|   3.0|20090710|[Adventure, Anima...|1996|Beavis and Butt-H...|       4.39063|\n",
      "|   1721|    12|   5.0|20090710|    [Drama, Romance]|1997|             Titanic|       4.39063|\n",
      "|   1876|    12|   3.5|20090710|[Drama, Sci-Fi, T...|1998|         Deep Impact|       4.39063|\n",
      "|   2072|    12|   5.0|20090710|            [Comedy]|1989|         'burbs, The|       4.39063|\n",
      "|   2100|    12|   3.5|20090710|[Comedy, Fantasy,...|1984|              Splash|       4.39063|\n",
      "|   2421|    12|   3.0|20090710|[Action, Adventur...|1986|Karate Kid, Part ...|       4.39063|\n",
      "|   2485|    12|   5.0|20090710|   [Comedy, Romance]|1999|      She's All That|       4.39063|\n",
      "+-------+------+------+--------+--------------------+----+--------------------+--------------+\n",
      "only showing top 20 rows\n",
      "\n"
     ]
    }
   ],
   "source": [
    "from pyspark.sql.window import Window\n",
    "\n",
    "# Suponiendo que movie_ratingsDF ya está cargado\n",
    "windowSpec = Window.partitionBy(\"userId\")\n",
    "\n",
    "# Calcular el promedio de calificaciones por usuario\n",
    "average_ratingsDF = movie_ratingsDF\\\n",
    "                    .withColumn(\\\n",
    "                                \"average_rating\", \\\n",
    "                                avg(\"rating\")\\\n",
    "                                .over(windowSpec))\n",
    "\n",
    "average_ratingsDF.show()\n"
   ]
  },
  {
   "cell_type": "markdown",
   "id": "79d786e6",
   "metadata": {},
   "source": [
    "### Calcular el Ranking de Calificaciones por Género y Año\n",
    "\n",
    "En este ejemplo, calcularemos el ranking de las calificaciones de las películas dentro de cada género y año. Utilizaremos la función de ventana rank para determinar la posición de cada película en términos de calificación.\n",
    "\n"
   ]
  },
  {
   "cell_type": "code",
   "execution_count": 26,
   "id": "040b35dc",
   "metadata": {},
   "outputs": [
    {
     "name": "stdout",
     "output_type": "stream",
     "text": [
      "+-------+------+------+--------+--------------------+----+--------------------+------------------+----+\n",
      "|movieId|userId|rating|    date|              genres|year|               title|             genre|rank|\n",
      "+-------+------+------+--------+--------------------+----+--------------------+------------------+----+\n",
      "| 155589|    89|   3.0|20180307|[(no genres listed)]|1968|     Noin 7 veljestä|(no genres listed)|   1|\n",
      "|   4800|    91|   2.5|20050405|[Action, Adventur...|1937|King Solomon's Mines|            Action|   1|\n",
      "|   8481|   474|   3.0|20040602|[Action, Adventur...|1940|   Northwest Passage|            Action|   1|\n",
      "|   8677|    68|   2.0|20060917|    [Action, Sci-Fi]|1940|Flash Gordon Conq...|            Action|   2|\n",
      "|   8677|    88|   0.5|20120310|    [Action, Sci-Fi]|1940|Flash Gordon Conq...|            Action|   3|\n",
      "|   1254|   290|   5.0|20001123|[Action, Adventur...|1948|Treasure of the S...|            Action|   1|\n",
      "|   1254|   603|   5.0|20000709|[Action, Adventur...|1948|Treasure of the S...|            Action|   1|\n",
      "|   1254|   221|   4.5|20050628|[Action, Adventur...|1948|Treasure of the S...|            Action|   3|\n",
      "|   1254|   474|   4.5|20040223|[Action, Adventur...|1948|Treasure of the S...|            Action|   3|\n",
      "|   1254|    57|   4.0|20000808|[Action, Adventur...|1948|Treasure of the S...|            Action|   5|\n",
      "|   1254|   186|   4.0|20020903|[Action, Adventur...|1948|Treasure of the S...|            Action|   5|\n",
      "|   1254|   385|   4.0|19970530|[Action, Adventur...|1948|Treasure of the S...|            Action|   5|\n",
      "|   1254|   387|   4.0|20040910|[Action, Adventur...|1948|Treasure of the S...|            Action|   5|\n",
      "|   7070|   474|   4.0|20041120|[Action, Adventur...|1948|           Red River|            Action|   5|\n",
      "|   1254|   527|   4.0|20020927|[Action, Adventur...|1948|Treasure of the S...|            Action|   5|\n",
      "|   1254|   590|   4.0|20091116|[Action, Adventur...|1948|Treasure of the S...|            Action|   5|\n",
      "|  25946|   606|   3.5|20080426|[Action, Adventur...|1948|Three Musketeers,...|            Action|  12|\n",
      "|   1254|   217|   3.0|20000416|[Action, Adventur...|1948|Treasure of the S...|            Action|  13|\n",
      "|   1254|   294|   3.0|20000818|[Action, Adventur...|1948|Treasure of the S...|            Action|  13|\n",
      "|   1254|   469|   3.0|20000807|[Action, Adventur...|1948|Treasure of the S...|            Action|  13|\n",
      "+-------+------+------+--------+--------------------+----+--------------------+------------------+----+\n",
      "only showing top 20 rows\n",
      "\n"
     ]
    }
   ],
   "source": [
    "from pyspark.sql.functions import rank\n",
    "\n",
    "explodedDF = movie_ratingsDF.withColumn(\"genre\", explode(\"genres\"))\n",
    "\n",
    "windowSpec = Window.partitionBy(\"genre\", \"year\").orderBy(col(\"rating\").desc())\n",
    "\n",
    "ranked_ratingsDF = explodedDF.withColumn(\"rank\", rank().over(windowSpec))\n",
    "\n",
    "ranked_ratingsDF.show()\n"
   ]
  },
  {
   "cell_type": "markdown",
   "id": "348e58e5",
   "metadata": {},
   "source": [
    "### Calcular el Cambio de Calificación respecto a la Calificación Anterior por Usuario\n",
    "\n",
    "En este ejemplo, calcularemos el cambio de calificación de una película respecto a la calificación anterior dada por el mismo usuario. Usaremos la función de ventana lag para acceder a la calificación anterior y calcular la diferencia."
   ]
  },
  {
   "cell_type": "code",
   "execution_count": 28,
   "id": "4959430e",
   "metadata": {},
   "outputs": [
    {
     "name": "stdout",
     "output_type": "stream",
     "text": [
      "+-------+------+------+--------+--------------------+----+--------------------+---------------+-------------+\n",
      "|movieId|userId|rating|    date|              genres|year|               title|previous_rating|rating_change|\n",
      "+-------+------+------+--------+--------------------+----+--------------------+---------------+-------------+\n",
      "|     39|    12|   4.0|20090710|   [Comedy, Romance]|1995|            Clueless|           NULL|         NULL|\n",
      "|    168|    12|   5.0|20090710|[Action, Drama, R...|1995|        First Knight|            4.0|          1.0|\n",
      "|    222|    12|   5.0|20090710|    [Drama, Romance]|1995|   Circle of Friends|            5.0|          0.0|\n",
      "|    256|    12|   5.0|20090710|    [Comedy, Sci-Fi]|1994|              Junior|            5.0|          0.0|\n",
      "|    261|    12|   4.5|20090710|             [Drama]|1994|        Little Women|            5.0|         -0.5|\n",
      "|    277|    12|   3.0|20090710|             [Drama]|1994|Miracle on 34th S...|            4.5|         -1.5|\n",
      "|    357|    12|   3.5|20090710|   [Comedy, Romance]|1994|Four Weddings and...|            3.0|          0.5|\n",
      "|    543|    12|   3.5|20090710|[Comedy, Romance,...|1993|So I Married an A...|            3.5|          0.0|\n",
      "|    830|    12|   4.0|20090710|            [Comedy]|1996|First Wives Club,...|            3.5|          0.5|\n",
      "|    838|    12|   5.0|20090710|[Comedy, Drama, R...|1996|                Emma|            4.0|          1.0|\n",
      "|    920|    12|   4.5|20090710|[Drama, Romance, ...|1939|  Gone with the Wind|            5.0|         -0.5|\n",
      "|   1265|    12|   3.5|20090710|[Comedy, Fantasy,...|1993|       Groundhog Day|            4.5|         -1.0|\n",
      "|   1357|    12|   5.0|20090710|    [Drama, Romance]|1996|               Shine|            3.5|          1.5|\n",
      "|   1405|    12|   3.0|20090710|[Adventure, Anima...|1996|Beavis and Butt-H...|            5.0|         -2.0|\n",
      "|   1721|    12|   5.0|20090710|    [Drama, Romance]|1997|             Titanic|            3.0|          2.0|\n",
      "|   1876|    12|   3.5|20090710|[Drama, Sci-Fi, T...|1998|         Deep Impact|            5.0|         -1.5|\n",
      "|   2072|    12|   5.0|20090710|            [Comedy]|1989|         'burbs, The|            3.5|          1.5|\n",
      "|   2100|    12|   3.5|20090710|[Comedy, Fantasy,...|1984|              Splash|            5.0|         -1.5|\n",
      "|   2421|    12|   3.0|20090710|[Action, Adventur...|1986|Karate Kid, Part ...|            3.5|         -0.5|\n",
      "|   2485|    12|   5.0|20090710|   [Comedy, Romance]|1999|      She's All That|            3.0|          2.0|\n",
      "+-------+------+------+--------+--------------------+----+--------------------+---------------+-------------+\n",
      "only showing top 20 rows\n",
      "\n"
     ]
    }
   ],
   "source": [
    "from pyspark.sql.functions import lag\n",
    "\n",
    "\n",
    "# Suponiendo que movie_ratingsDF ya está cargado\n",
    "windowSpec = Window.partitionBy(\"userId\").orderBy(\"date\")\n",
    "\n",
    "# Calcular el cambio de calificación respecto a la calificación anterior por usuario\n",
    "change_ratingsDF = movie_ratingsDF.withColumn(\"previous_rating\", lag(\"rating\", 1).over(windowSpec)) \\\n",
    "                                  .withColumn(\"rating_change\", col(\"rating\") - col(\"previous_rating\"))\n",
    "\n",
    "change_ratingsDF.show()\n"
   ]
  },
  {
   "cell_type": "code",
   "execution_count": null,
   "id": "2ec88ca8",
   "metadata": {},
   "outputs": [],
   "source": []
  },
  {
   "cell_type": "code",
   "execution_count": null,
   "id": "ab34f00e",
   "metadata": {},
   "outputs": [],
   "source": []
  },
  {
   "cell_type": "code",
   "execution_count": 6,
   "id": "85189a11",
   "metadata": {
    "scrolled": true
   },
   "outputs": [
    {
     "name": "stdout",
     "output_type": "stream",
     "text": [
      "+------+-----+\n",
      "|rating|count|\n",
      "+------+-----+\n",
      "|   5.0|13211|\n",
      "|   2.5| 5550|\n",
      "|   0.5| 1370|\n",
      "|   1.0| 2811|\n",
      "|   3.5|13136|\n",
      "|   1.5| 1791|\n",
      "|   3.0|20047|\n",
      "|   2.0| 7551|\n",
      "|   4.0|26818|\n",
      "|   4.5| 8551|\n",
      "+------+-----+\n",
      "\n"
     ]
    }
   ],
   "source": [
    "# Alternativa: metodo count\n",
    "movie_ratingsDF_grouped_by_rating.count().show()"
   ]
  },
  {
   "cell_type": "markdown",
   "id": "56a67a54",
   "metadata": {},
   "source": [
    "Ordenamos la lista para que se vea mejor:"
   ]
  },
  {
   "cell_type": "code",
   "execution_count": 13,
   "id": "9df4a302",
   "metadata": {},
   "outputs": [
    {
     "name": "stdout",
     "output_type": "stream",
     "text": [
      "+------+-----+\n",
      "|rating|count|\n",
      "+------+-----+\n",
      "|   5.0|13211|\n",
      "|   4.5| 8551|\n",
      "|   4.0|26818|\n",
      "|   3.5|13136|\n",
      "|   3.0|20047|\n",
      "|   2.5| 5550|\n",
      "|   2.0| 7551|\n",
      "|   1.5| 1791|\n",
      "|   1.0| 2811|\n",
      "|   0.5| 1370|\n",
      "+------+-----+\n",
      "\n"
     ]
    }
   ],
   "source": [
    "movie_ratingsDF_grouped_by_rating.count().orderBy(desc(\"rating\")).show()"
   ]
  },
  {
   "cell_type": "markdown",
   "id": "eb54e814",
   "metadata": {},
   "source": [
    "## ¿Cuál es la película con la mayor cantidad de reseñas? "
   ]
  },
  {
   "cell_type": "code",
   "execution_count": 33,
   "id": "9c127dfb",
   "metadata": {
    "scrolled": true
   },
   "outputs": [
    {
     "name": "stdout",
     "output_type": "stream",
     "text": [
      "+------------+-----+\n",
      "|       title|count|\n",
      "+------------+-----+\n",
      "|Forrest Gump|  329|\n",
      "+------------+-----+\n",
      "only showing top 1 row\n",
      "\n"
     ]
    }
   ],
   "source": [
    "movie_ratingsDF_grouped_by_movieID = movie_ratingsDF.groupBy(\"title\").count().orderBy(desc(\"count\"))\n",
    "movie_ratingsDF_grouped_by_movieID.show(1)\n"
   ]
  },
  {
   "cell_type": "code",
   "execution_count": 22,
   "id": "6ea0539e",
   "metadata": {
    "scrolled": true
   },
   "outputs": [
    {
     "name": "stdout",
     "output_type": "stream",
     "text": [
      "root\n",
      " |-- movieId: integer (nullable = true)\n",
      " |-- userId: integer (nullable = true)\n",
      " |-- rating: decimal(2,1) (nullable = true)\n",
      " |-- date: string (nullable = true)\n",
      " |-- genres: array (nullable = true)\n",
      " |    |-- element: string (containsNull = false)\n",
      " |-- year: integer (nullable = true)\n",
      " |-- title: string (nullable = true)\n",
      "\n"
     ]
    }
   ],
   "source": [
    "movie_ratingsDF.printSchema()"
   ]
  },
  {
   "cell_type": "code",
   "execution_count": 24,
   "id": "3c2bc143",
   "metadata": {},
   "outputs": [
    {
     "name": "stdout",
     "output_type": "stream",
     "text": [
      "+-------+------+------+--------+--------------------+----+----------------+\n",
      "|movieId|userId|rating|    date|              genres|year|           title|\n",
      "+-------+------+------+--------+--------------------+----+----------------+\n",
      "|      1|     1|   4.0|20000730|[Adventure, Anima...|1995|       Toy Story|\n",
      "|      3|     1|   4.0|20000730|   [Comedy, Romance]|1995|Grumpier Old Men|\n",
      "+-------+------+------+--------+--------------------+----+----------------+\n",
      "only showing top 2 rows\n",
      "\n"
     ]
    }
   ],
   "source": [
    "movie_ratingsDF.show(2)"
   ]
  }
 ],
 "metadata": {
  "kernelspec": {
   "display_name": "Python 3 (ipykernel)",
   "language": "python",
   "name": "python3"
  },
  "language_info": {
   "codemirror_mode": {
    "name": "ipython",
    "version": 3
   },
   "file_extension": ".py",
   "mimetype": "text/x-python",
   "name": "python",
   "nbconvert_exporter": "python",
   "pygments_lexer": "ipython3",
   "version": "3.9.17"
  }
 },
 "nbformat": 4,
 "nbformat_minor": 5
}
