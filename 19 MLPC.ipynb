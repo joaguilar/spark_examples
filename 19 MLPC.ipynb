{
 "cells": [
  {
   "cell_type": "markdown",
   "id": "620036bd",
   "metadata": {},
   "source": [
    "# Nota\n",
    "\n",
    "Reiniciar Jupyter antes de correr este notebook"
   ]
  },
  {
   "cell_type": "code",
   "execution_count": 1,
   "id": "9698d0be",
   "metadata": {
    "scrolled": true
   },
   "outputs": [
    {
     "name": "stderr",
     "output_type": "stream",
     "text": [
      "24/07/25 14:52:37 WARN Utils: Your hostname, Joses-MacBook-Air-2.local resolves to a loopback address: 127.0.0.1; using 192.168.100.124 instead (on interface en0)\n",
      "24/07/25 14:52:37 WARN Utils: Set SPARK_LOCAL_IP if you need to bind to another address\n",
      "Setting default log level to \"WARN\".\n",
      "To adjust logging level use sc.setLogLevel(newLevel). For SparkR, use setLogLevel(newLevel).\n",
      "24/07/25 14:52:37 WARN NativeCodeLoader: Unable to load native-hadoop library for your platform... using builtin-java classes where applicable\n"
     ]
    }
   ],
   "source": [
    "import findspark\n",
    "findspark.init('/spark-3.5.1-bin-hadoop3')\n",
    "from pyspark import *\n",
    "import numpy as np\n",
    "import matplotlib.pyplot as plt\n",
    "from pyspark.sql import SparkSession\n",
    "from pyspark.ml.classification import MultilayerPerceptronClassifier\n",
    "from pyspark.ml.evaluation import MulticlassClassificationEvaluator\n",
    "from pyspark.ml.feature import VectorAssembler\n",
    "from pyspark.sql.types import StructType, StructField, IntegerType, FloatType\n",
    "from pyspark.sql.functions import col\n",
    "\n",
    "\n",
    "spark = SparkSession.builder.appName(\"analytics\").config(\"spark.driver.memory\", \"4g\").getOrCreate()"
   ]
  },
  {
   "cell_type": "markdown",
   "id": "6804647d",
   "metadata": {},
   "source": [
    "# MNIST Classifier\n",
    "\n",
    "Ejemplo que muestra como clasificar dígitos escritos a mano con el Multilayer Perceptron Classifier (MLPC) y el conjunto de datos MNIST.\n",
    "\n",
    "Los datos de MNIST puede obtenerse de [http://yann.lecun.com/exdb/mnist/](http://yann.lecun.com/exdb/mnist/) y consisten en los siguientes archivos:\n",
    "\n",
    "* train-images-idx3-ubyte.gz: Imagenes de entrenamiento\n",
    "* train-labels-idx1-ubyte.gz: Etiquetas de entrenamiento\n",
    "* t10k-images-idx3-ubyte.gz: Imagenes de prueba\n",
    "* t10k-labels-idx1-ubyte.gz: Etiquetas de prueba\n",
    "\n",
    "Para poder ejecutar este ejemplo, extraiga los archivos en el directorio `data/` bajo donde se ejecutó este archivo.\n",
    "\n",
    "## Cargar los datos de MNIST"
   ]
  },
  {
   "cell_type": "code",
   "execution_count": 2,
   "id": "f9ea8237",
   "metadata": {},
   "outputs": [],
   "source": [
    "# Función para cargar y convertir los datos MNIST\n",
    "def load_mnist_data(path, is_train=True):\n",
    "    # El archivo de imagenes y etiquetas\n",
    "    img_file = 'train-images-idx3-ubyte' if is_train else 't10k-images-idx3-ubyte'\n",
    "    lbl_file = 'train-labels-idx1-ubyte' if is_train else 't10k-labels-idx1-ubyte'\n",
    "    \n",
    "    # Cargar imagenes\n",
    "    with open(f'{path}/{img_file}', 'rb') as f:\n",
    "        images = np.frombuffer(f.read(), np.uint8, offset=16).reshape(-1, 28*28).astype(float)\n",
    "    \n",
    "    # Cargar etiquetas\n",
    "    with open(f'{path}/{lbl_file}', 'rb') as f:\n",
    "        labels = np.frombuffer(f.read(), np.uint8, offset=8).astype(int)\n",
    "    \n",
    "    return images, labels\n",
    "\n",
    "# Ruta a los archivos MNIST\n",
    "path = 'data'\n",
    "\n",
    "# Cargar los datos de entrenamiento y prueba\n",
    "train_images, train_labels = load_mnist_data(path, is_train=True)\n",
    "test_images, test_labels = load_mnist_data(path, is_train=False)"
   ]
  },
  {
   "cell_type": "markdown",
   "id": "5badc4c3",
   "metadata": {},
   "source": [
    "## Dataframes:\n",
    "\n",
    "Crear Dataframes para poder distribuir el procesamiento\n",
    "\n",
    "Los datos del conjunto de datos MNIST se cargan desde archivos binarios utilizando `NumPy`. Los datos de las imágenes y etiquetas se leen y se convierten a tipos de datos `float` e `int` respectivamente. Luego, los datos de las imágenes y etiquetas se combinan en tuplas, y se define un esquema explícito para el `DataFrame` de Spark con campos de tipo `FloatType` para los píxeles e `IntegerType` para las etiquetas. "
   ]
  },
  {
   "cell_type": "code",
   "execution_count": 3,
   "id": "c01c649b",
   "metadata": {},
   "outputs": [],
   "source": [
    "# Definir el esquema para los DataFrames\n",
    "schema = StructType([StructField(\"pixel\" + str(i), FloatType(), False) for i in range(28*28)] + [StructField(\"label\", IntegerType(), False)])\n",
    "\n",
    "# Crear un DataFrame de Spark a partir de los datos de entrenamiento\n",
    "train_data = [tuple(x.tolist()) + (int(y),) for x, y in zip(train_images, train_labels)]\n",
    "train_df = spark.createDataFrame(train_data, schema=schema)\n",
    "\n",
    "# Crear un DataFrame de Spark a partir de los datos de prueba\n",
    "test_data = [tuple(x.tolist()) + (int(y),) for x, y in zip(test_images, test_labels)]\n",
    "test_df = spark.createDataFrame(test_data, schema=schema)\n"
   ]
  },
  {
   "cell_type": "markdown",
   "id": "793693a5",
   "metadata": {},
   "source": [
    "## Preparar las características"
   ]
  },
  {
   "cell_type": "code",
   "execution_count": 4,
   "id": "50859035",
   "metadata": {},
   "outputs": [],
   "source": [
    "# Ensamblar todas las características en un solo vector\n",
    "assembler = VectorAssembler(\n",
    "    inputCols=[\"pixel\" + str(i) for i in range(28*28)],\n",
    "    outputCol=\"features\"\n",
    ")\n",
    "\n",
    "train_df = assembler.transform(train_df).select('features', 'label')\n",
    "test_df = assembler.transform(test_df).select('features', 'label')"
   ]
  },
  {
   "cell_type": "markdown",
   "id": "c3c611bc",
   "metadata": {},
   "source": [
    "## Definir la estructura de la red neuronal\n",
    "\n",
    "Para configurar la red neuronal, primero se define la estructura de la red especificando el número de neuronas en cada capa. En este caso, la red consta de cuatro capas: una capa de entrada con 784 neuronas (correspondiente a los 28x28 píxeles de las imágenes MNIST), dos capas ocultas con 128 y 64 neuronas respectivamente (seleccionadas aleatoriamente), y una capa de salida con 10 neuronas (correspondiente a las 10 posibles clases de dígitos)."
   ]
  },
  {
   "cell_type": "code",
   "execution_count": 5,
   "id": "727346a3",
   "metadata": {},
   "outputs": [],
   "source": [
    "# Definir la estructura de la red neuronal\n",
    "layers = [28*28, 128, 64, 10]"
   ]
  },
  {
   "cell_type": "markdown",
   "id": "b703a5a9",
   "metadata": {},
   "source": [
    "## Crear el MLPC\n",
    "\n",
    "El `MultilayerPerceptronClassifier` de PySpark MLlib se configura especificando varios parámetros clave: \n",
    "\n",
    "* `maxIter` para definir el número máximo de iteraciones del algoritmo\n",
    "* `layers` para definir la estructura de la red neuronal\n",
    "* `blockSize` para establecer el tamaño del bloque de datos en cada iteración\n",
    "* `seed` para asegurar la reproducibilidad de los resultados (por suspuesto usamos 42 aquí)"
   ]
  },
  {
   "cell_type": "code",
   "execution_count": 6,
   "id": "ac683b43",
   "metadata": {},
   "outputs": [],
   "source": [
    "# Crear el clasificador de Multilayer Perceptron\n",
    "mlpc = MultilayerPerceptronClassifier(\n",
    "    maxIter=100,\n",
    "    layers=layers,\n",
    "    blockSize=128,\n",
    "    seed=42\n",
    ")"
   ]
  },
  {
   "cell_type": "markdown",
   "id": "92262afa",
   "metadata": {},
   "source": [
    "## Entrenar el modelo"
   ]
  },
  {
   "cell_type": "code",
   "execution_count": 7,
   "id": "e3202272",
   "metadata": {},
   "outputs": [
    {
     "name": "stderr",
     "output_type": "stream",
     "text": [
      "24/07/25 14:53:29 WARN TaskSetManager: Stage 0 contains a task of very large size (49441 KiB). The maximum recommended task size is 1000 KiB.\n",
      "24/07/25 14:53:34 WARN TaskSetManager: Stage 1 contains a task of very large size (49441 KiB). The maximum recommended task size is 1000 KiB.\n",
      "24/07/25 14:53:34 WARN InstanceBuilder: Failed to load implementation from:dev.ludovic.netlib.blas.JNIBLAS\n",
      "24/07/25 14:53:34 WARN InstanceBuilder: Failed to load implementation from:dev.ludovic.netlib.blas.VectorBLAS\n",
      "24/07/25 14:53:37 WARN TaskSetManager: Stage 3 contains a task of very large size (49441 KiB). The maximum recommended task size is 1000 KiB.\n",
      "24/07/25 14:53:38 WARN TaskSetManager: Stage 5 contains a task of very large size (49441 KiB). The maximum recommended task size is 1000 KiB.\n",
      "24/07/25 14:53:40 WARN TaskSetManager: Stage 7 contains a task of very large size (49441 KiB). The maximum recommended task size is 1000 KiB.\n",
      "24/07/25 14:53:42 WARN TaskSetManager: Stage 9 contains a task of very large size (49441 KiB). The maximum recommended task size is 1000 KiB.\n",
      "24/07/25 14:53:43 WARN TaskSetManager: Stage 11 contains a task of very large size (49441 KiB). The maximum recommended task size is 1000 KiB.\n",
      "24/07/25 14:53:45 WARN TaskSetManager: Stage 13 contains a task of very large size (49441 KiB). The maximum recommended task size is 1000 KiB.\n",
      "24/07/25 14:53:46 WARN TaskSetManager: Stage 15 contains a task of very large size (49441 KiB). The maximum recommended task size is 1000 KiB.\n",
      "24/07/25 14:53:48 WARN TaskSetManager: Stage 17 contains a task of very large size (49441 KiB). The maximum recommended task size is 1000 KiB.\n",
      "24/07/25 14:53:49 WARN TaskSetManager: Stage 19 contains a task of very large size (49441 KiB). The maximum recommended task size is 1000 KiB.\n",
      "24/07/25 14:53:50 WARN TaskSetManager: Stage 21 contains a task of very large size (49441 KiB). The maximum recommended task size is 1000 KiB.\n",
      "24/07/25 14:53:51 WARN TaskSetManager: Stage 23 contains a task of very large size (49441 KiB). The maximum recommended task size is 1000 KiB.\n",
      "24/07/25 14:53:53 WARN TaskSetManager: Stage 25 contains a task of very large size (49441 KiB). The maximum recommended task size is 1000 KiB.\n",
      "24/07/25 14:53:54 WARN TaskSetManager: Stage 27 contains a task of very large size (49441 KiB). The maximum recommended task size is 1000 KiB.\n",
      "24/07/25 14:53:55 WARN TaskSetManager: Stage 29 contains a task of very large size (49441 KiB). The maximum recommended task size is 1000 KiB.\n",
      "24/07/25 14:53:56 WARN TaskSetManager: Stage 31 contains a task of very large size (49441 KiB). The maximum recommended task size is 1000 KiB.\n",
      "24/07/25 14:53:57 WARN TaskSetManager: Stage 33 contains a task of very large size (49441 KiB). The maximum recommended task size is 1000 KiB.\n",
      "24/07/25 14:53:58 WARN TaskSetManager: Stage 35 contains a task of very large size (49441 KiB). The maximum recommended task size is 1000 KiB.\n",
      "24/07/25 14:53:59 WARN TaskSetManager: Stage 37 contains a task of very large size (49441 KiB). The maximum recommended task size is 1000 KiB.\n",
      "24/07/25 14:54:01 WARN TaskSetManager: Stage 39 contains a task of very large size (49441 KiB). The maximum recommended task size is 1000 KiB.\n",
      "24/07/25 14:54:02 WARN TaskSetManager: Stage 41 contains a task of very large size (49441 KiB). The maximum recommended task size is 1000 KiB.\n",
      "24/07/25 14:54:03 WARN TaskSetManager: Stage 43 contains a task of very large size (49441 KiB). The maximum recommended task size is 1000 KiB.\n",
      "24/07/25 14:54:05 WARN TaskSetManager: Stage 45 contains a task of very large size (49441 KiB). The maximum recommended task size is 1000 KiB.\n",
      "24/07/25 14:54:06 WARN TaskSetManager: Stage 47 contains a task of very large size (49441 KiB). The maximum recommended task size is 1000 KiB.\n",
      "24/07/25 14:54:07 WARN TaskSetManager: Stage 49 contains a task of very large size (49441 KiB). The maximum recommended task size is 1000 KiB.\n",
      "24/07/25 14:54:09 WARN TaskSetManager: Stage 51 contains a task of very large size (49441 KiB). The maximum recommended task size is 1000 KiB.\n",
      "24/07/25 14:54:10 WARN TaskSetManager: Stage 53 contains a task of very large size (49441 KiB). The maximum recommended task size is 1000 KiB.\n",
      "24/07/25 14:54:11 WARN TaskSetManager: Stage 55 contains a task of very large size (49441 KiB). The maximum recommended task size is 1000 KiB.\n",
      "24/07/25 14:54:12 WARN TaskSetManager: Stage 57 contains a task of very large size (49441 KiB). The maximum recommended task size is 1000 KiB.\n",
      "24/07/25 14:54:13 WARN TaskSetManager: Stage 59 contains a task of very large size (49441 KiB). The maximum recommended task size is 1000 KiB.\n",
      "24/07/25 14:54:14 WARN TaskSetManager: Stage 61 contains a task of very large size (49441 KiB). The maximum recommended task size is 1000 KiB.\n",
      "24/07/25 14:54:15 WARN TaskSetManager: Stage 63 contains a task of very large size (49441 KiB). The maximum recommended task size is 1000 KiB.\n",
      "24/07/25 14:54:16 WARN TaskSetManager: Stage 65 contains a task of very large size (49441 KiB). The maximum recommended task size is 1000 KiB.\n",
      "24/07/25 14:54:17 WARN TaskSetManager: Stage 67 contains a task of very large size (49441 KiB). The maximum recommended task size is 1000 KiB.\n",
      "24/07/25 14:54:19 WARN TaskSetManager: Stage 69 contains a task of very large size (49441 KiB). The maximum recommended task size is 1000 KiB.\n",
      "24/07/25 14:54:20 WARN TaskSetManager: Stage 71 contains a task of very large size (49441 KiB). The maximum recommended task size is 1000 KiB.\n",
      "24/07/25 14:54:21 WARN TaskSetManager: Stage 73 contains a task of very large size (49441 KiB). The maximum recommended task size is 1000 KiB.\n",
      "24/07/25 14:54:22 WARN TaskSetManager: Stage 75 contains a task of very large size (49441 KiB). The maximum recommended task size is 1000 KiB.\n",
      "24/07/25 14:54:23 WARN TaskSetManager: Stage 77 contains a task of very large size (49441 KiB). The maximum recommended task size is 1000 KiB.\n",
      "24/07/25 14:54:24 WARN TaskSetManager: Stage 79 contains a task of very large size (49441 KiB). The maximum recommended task size is 1000 KiB.\n",
      "24/07/25 14:54:25 WARN TaskSetManager: Stage 81 contains a task of very large size (49441 KiB). The maximum recommended task size is 1000 KiB.\n",
      "24/07/25 14:54:27 WARN TaskSetManager: Stage 83 contains a task of very large size (49441 KiB). The maximum recommended task size is 1000 KiB.\n",
      "24/07/25 14:54:28 WARN TaskSetManager: Stage 85 contains a task of very large size (49441 KiB). The maximum recommended task size is 1000 KiB.\n",
      "24/07/25 14:54:29 WARN TaskSetManager: Stage 87 contains a task of very large size (49441 KiB). The maximum recommended task size is 1000 KiB.\n",
      "24/07/25 14:54:30 WARN TaskSetManager: Stage 89 contains a task of very large size (49441 KiB). The maximum recommended task size is 1000 KiB.\n",
      "24/07/25 14:54:31 WARN TaskSetManager: Stage 91 contains a task of very large size (49441 KiB). The maximum recommended task size is 1000 KiB.\n",
      "24/07/25 14:54:32 WARN TaskSetManager: Stage 93 contains a task of very large size (49441 KiB). The maximum recommended task size is 1000 KiB.\n",
      "24/07/25 14:54:33 WARN TaskSetManager: Stage 95 contains a task of very large size (49441 KiB). The maximum recommended task size is 1000 KiB.\n",
      "24/07/25 14:54:34 WARN TaskSetManager: Stage 97 contains a task of very large size (49441 KiB). The maximum recommended task size is 1000 KiB.\n",
      "24/07/25 14:54:35 WARN TaskSetManager: Stage 99 contains a task of very large size (49441 KiB). The maximum recommended task size is 1000 KiB.\n",
      "24/07/25 14:54:37 WARN TaskSetManager: Stage 101 contains a task of very large size (49441 KiB). The maximum recommended task size is 1000 KiB.\n",
      "24/07/25 14:54:38 WARN TaskSetManager: Stage 103 contains a task of very large size (49441 KiB). The maximum recommended task size is 1000 KiB.\n",
      "24/07/25 14:54:39 WARN TaskSetManager: Stage 105 contains a task of very large size (49441 KiB). The maximum recommended task size is 1000 KiB.\n",
      "24/07/25 14:54:40 WARN TaskSetManager: Stage 107 contains a task of very large size (49441 KiB). The maximum recommended task size is 1000 KiB.\n",
      "24/07/25 14:54:41 WARN TaskSetManager: Stage 109 contains a task of very large size (49441 KiB). The maximum recommended task size is 1000 KiB.\n"
     ]
    },
    {
     "name": "stderr",
     "output_type": "stream",
     "text": [
      "24/07/25 14:54:42 WARN TaskSetManager: Stage 111 contains a task of very large size (49441 KiB). The maximum recommended task size is 1000 KiB.\n",
      "24/07/25 14:54:43 WARN TaskSetManager: Stage 113 contains a task of very large size (49441 KiB). The maximum recommended task size is 1000 KiB.\n",
      "24/07/25 14:54:44 WARN TaskSetManager: Stage 115 contains a task of very large size (49441 KiB). The maximum recommended task size is 1000 KiB.\n",
      "24/07/25 14:54:46 WARN TaskSetManager: Stage 117 contains a task of very large size (49441 KiB). The maximum recommended task size is 1000 KiB.\n",
      "24/07/25 14:54:47 WARN TaskSetManager: Stage 119 contains a task of very large size (49441 KiB). The maximum recommended task size is 1000 KiB.\n",
      "24/07/25 14:54:48 WARN TaskSetManager: Stage 121 contains a task of very large size (49441 KiB). The maximum recommended task size is 1000 KiB.\n",
      "24/07/25 14:54:49 WARN TaskSetManager: Stage 123 contains a task of very large size (49441 KiB). The maximum recommended task size is 1000 KiB.\n",
      "24/07/25 14:54:50 WARN TaskSetManager: Stage 125 contains a task of very large size (49441 KiB). The maximum recommended task size is 1000 KiB.\n",
      "24/07/25 14:54:51 WARN TaskSetManager: Stage 127 contains a task of very large size (49441 KiB). The maximum recommended task size is 1000 KiB.\n",
      "24/07/25 14:54:52 WARN TaskSetManager: Stage 129 contains a task of very large size (49441 KiB). The maximum recommended task size is 1000 KiB.\n",
      "24/07/25 14:54:53 WARN TaskSetManager: Stage 131 contains a task of very large size (49441 KiB). The maximum recommended task size is 1000 KiB.\n",
      "24/07/25 14:54:54 WARN TaskSetManager: Stage 133 contains a task of very large size (49441 KiB). The maximum recommended task size is 1000 KiB.\n",
      "24/07/25 14:54:55 WARN TaskSetManager: Stage 135 contains a task of very large size (49441 KiB). The maximum recommended task size is 1000 KiB.\n",
      "24/07/25 14:54:56 WARN TaskSetManager: Stage 137 contains a task of very large size (49441 KiB). The maximum recommended task size is 1000 KiB.\n",
      "24/07/25 14:54:57 WARN TaskSetManager: Stage 139 contains a task of very large size (49441 KiB). The maximum recommended task size is 1000 KiB.\n",
      "24/07/25 14:54:58 WARN TaskSetManager: Stage 141 contains a task of very large size (49441 KiB). The maximum recommended task size is 1000 KiB.\n",
      "24/07/25 14:54:59 WARN TaskSetManager: Stage 143 contains a task of very large size (49441 KiB). The maximum recommended task size is 1000 KiB.\n",
      "24/07/25 14:55:00 WARN TaskSetManager: Stage 145 contains a task of very large size (49441 KiB). The maximum recommended task size is 1000 KiB.\n",
      "24/07/25 14:55:01 WARN TaskSetManager: Stage 147 contains a task of very large size (49441 KiB). The maximum recommended task size is 1000 KiB.\n",
      "24/07/25 14:55:02 WARN TaskSetManager: Stage 149 contains a task of very large size (49441 KiB). The maximum recommended task size is 1000 KiB.\n",
      "24/07/25 14:55:03 WARN TaskSetManager: Stage 151 contains a task of very large size (49441 KiB). The maximum recommended task size is 1000 KiB.\n",
      "24/07/25 14:55:04 WARN TaskSetManager: Stage 153 contains a task of very large size (49441 KiB). The maximum recommended task size is 1000 KiB.\n",
      "24/07/25 14:55:05 WARN TaskSetManager: Stage 155 contains a task of very large size (49441 KiB). The maximum recommended task size is 1000 KiB.\n",
      "24/07/25 14:55:07 WARN TaskSetManager: Stage 157 contains a task of very large size (49441 KiB). The maximum recommended task size is 1000 KiB.\n",
      "24/07/25 14:55:08 WARN TaskSetManager: Stage 159 contains a task of very large size (49441 KiB). The maximum recommended task size is 1000 KiB.\n",
      "24/07/25 14:55:09 WARN TaskSetManager: Stage 161 contains a task of very large size (49441 KiB). The maximum recommended task size is 1000 KiB.\n",
      "24/07/25 14:55:10 WARN TaskSetManager: Stage 163 contains a task of very large size (49441 KiB). The maximum recommended task size is 1000 KiB.\n",
      "24/07/25 14:55:11 WARN TaskSetManager: Stage 165 contains a task of very large size (49441 KiB). The maximum recommended task size is 1000 KiB.\n",
      "24/07/25 14:55:12 WARN TaskSetManager: Stage 167 contains a task of very large size (49441 KiB). The maximum recommended task size is 1000 KiB.\n",
      "24/07/25 14:55:13 WARN TaskSetManager: Stage 169 contains a task of very large size (49441 KiB). The maximum recommended task size is 1000 KiB.\n",
      "24/07/25 14:55:15 WARN TaskSetManager: Stage 171 contains a task of very large size (49441 KiB). The maximum recommended task size is 1000 KiB.\n",
      "24/07/25 14:55:16 WARN TaskSetManager: Stage 173 contains a task of very large size (49441 KiB). The maximum recommended task size is 1000 KiB.\n",
      "24/07/25 14:55:17 WARN TaskSetManager: Stage 175 contains a task of very large size (49441 KiB). The maximum recommended task size is 1000 KiB.\n",
      "24/07/25 14:55:18 WARN TaskSetManager: Stage 177 contains a task of very large size (49441 KiB). The maximum recommended task size is 1000 KiB.\n",
      "24/07/25 14:55:19 WARN TaskSetManager: Stage 179 contains a task of very large size (49441 KiB). The maximum recommended task size is 1000 KiB.\n",
      "24/07/25 14:55:20 WARN TaskSetManager: Stage 181 contains a task of very large size (49441 KiB). The maximum recommended task size is 1000 KiB.\n",
      "24/07/25 14:55:21 WARN TaskSetManager: Stage 183 contains a task of very large size (49441 KiB). The maximum recommended task size is 1000 KiB.\n",
      "24/07/25 14:55:22 WARN TaskSetManager: Stage 185 contains a task of very large size (49441 KiB). The maximum recommended task size is 1000 KiB.\n",
      "24/07/25 14:55:23 WARN TaskSetManager: Stage 187 contains a task of very large size (49441 KiB). The maximum recommended task size is 1000 KiB.\n",
      "24/07/25 14:55:24 WARN TaskSetManager: Stage 189 contains a task of very large size (49441 KiB). The maximum recommended task size is 1000 KiB.\n",
      "24/07/25 14:55:26 WARN TaskSetManager: Stage 191 contains a task of very large size (49441 KiB). The maximum recommended task size is 1000 KiB.\n",
      "24/07/25 14:55:27 WARN TaskSetManager: Stage 193 contains a task of very large size (49441 KiB). The maximum recommended task size is 1000 KiB.\n",
      "24/07/25 14:55:29 WARN TaskSetManager: Stage 195 contains a task of very large size (49441 KiB). The maximum recommended task size is 1000 KiB.\n",
      "24/07/25 14:55:30 WARN TaskSetManager: Stage 197 contains a task of very large size (49441 KiB). The maximum recommended task size is 1000 KiB.\n",
      "24/07/25 14:55:32 WARN TaskSetManager: Stage 199 contains a task of very large size (49441 KiB). The maximum recommended task size is 1000 KiB.\n",
      "24/07/25 14:55:33 WARN TaskSetManager: Stage 201 contains a task of very large size (49441 KiB). The maximum recommended task size is 1000 KiB.\n",
      "24/07/25 14:55:34 WARN TaskSetManager: Stage 203 contains a task of very large size (49441 KiB). The maximum recommended task size is 1000 KiB.\n",
      "                                                                                \r"
     ]
    }
   ],
   "source": [
    "# Entrenar el modelo\n",
    "model = mlpc.fit(train_df)"
   ]
  },
  {
   "cell_type": "markdown",
   "id": "2ff1bc73",
   "metadata": {},
   "source": [
    "## Evaluación del modelo"
   ]
  },
  {
   "cell_type": "code",
   "execution_count": 8,
   "id": "2945bf6d",
   "metadata": {},
   "outputs": [
    {
     "name": "stderr",
     "output_type": "stream",
     "text": [
      "24/07/25 14:55:47 WARN DAGScheduler: Broadcasting large task binary with size 1333.0 KiB\n",
      "24/07/25 14:55:47 WARN TaskSetManager: Stage 205 contains a task of very large size (7069 KiB). The maximum recommended task size is 1000 KiB.\n",
      "[Stage 205:>                                                        (0 + 8) / 8]\r"
     ]
    },
    {
     "name": "stdout",
     "output_type": "stream",
     "text": [
      "Precisión del conjunto de prueba = 0.9476\n"
     ]
    },
    {
     "name": "stderr",
     "output_type": "stream",
     "text": [
      "\r",
      "[Stage 205:==========================================>              (6 + 2) / 8]\r",
      "\r",
      "                                                                                \r"
     ]
    }
   ],
   "source": [
    "# Hacer predicciones en los datos de prueba\n",
    "result = model.transform(test_df)\n",
    "\n",
    "# Evaluar la precisión del modelo\n",
    "evaluator = MulticlassClassificationEvaluator(\n",
    "    labelCol=\"label\",\n",
    "    predictionCol=\"prediction\",\n",
    "    metricName=\"accuracy\"\n",
    ")\n",
    "\n",
    "accuracy = evaluator.evaluate(result)\n",
    "print(f\"Precisión del conjunto de prueba = {accuracy:.4f}\")"
   ]
  },
  {
   "cell_type": "markdown",
   "id": "15bcc4f4",
   "metadata": {},
   "source": [
    "## Resultados\n",
    "\n",
    "Después de evaluar la precisión del modelo, se seleccionan las predicciones para mostrar ejemplos visuales de cómo el modelo clasifica las imágenes de dígitos. Primero, las características (`features`), etiquetas reales (`label`) y predicciones (`prediction`) se recogen del DataFrame de resultados y se convierten en listas de NumPy para facilitar su manipulación.\n",
    "\n",
    "Una función llamada display_images se define para mostrar un conjunto de imágenes con sus predicciones correspondientes. Esta función toma como entrada las imágenes, las etiquetas y las predicciones, junto con el número de ejemplos a mostrar. Utiliza `Matplotlib` para crear una figura y subfiguras en un formato de cuadrícula. Cada subfigura muestra una imagen de 28x28 píxeles, con el título que indica la etiqueta real y la predicción del modelo. Para proporcionar una muestra representativa, se seleccionan 25 ejemplos aleatorios del conjunto de datos y se muestran utilizando esta función. Esto permite visualizar de manera clara y comprensible cómo el modelo está funcionando y qué tan precisas son sus predicciones."
   ]
  },
  {
   "cell_type": "code",
   "execution_count": 11,
   "id": "a9275753",
   "metadata": {},
   "outputs": [
    {
     "name": "stderr",
     "output_type": "stream",
     "text": [
      "24/07/25 14:57:30 WARN DAGScheduler: Broadcasting large task binary with size 1316.3 KiB\n",
      "24/07/25 14:57:31 WARN TaskSetManager: Stage 209 contains a task of very large size (7069 KiB). The maximum recommended task size is 1000 KiB.\n",
      "                                                                                \r"
     ]
    },
    {
     "data": {
      "image/png": "[encoded data removed]",
      "text/plain": [
       "<Figure size 720x720 with 10 Axes>"
      ]
     },
     "metadata": {
      "needs_background": "light"
     },
     "output_type": "display_data"
    }
   ],
   "source": [
    "# Mostrar algunas predicciones\n",
    "predictions = result.select(\"features\", \"label\", \"prediction\").collect()\n",
    "\n",
    "# Mostrar algunas imágenes con sus predicciones\n",
    "def display_images(images, labels, predictions, num=10):\n",
    "    plt.figure(figsize=(10, 10))\n",
    "    for i in range(num):\n",
    "        plt.subplot(5, 5, i + 1)\n",
    "        plt.imshow(images[i].reshape((28, 28)), cmap='gray')\n",
    "        plt.title(f\"Etiqueta: {labels[i]}, Pred: {predictions[i]}\")\n",
    "        plt.axis('off')\n",
    "    plt.show()\n",
    "\n",
    "# Convertir las características de vuelta a imágenes para visualización\n",
    "images = np.array([row['features'] for row in predictions])\n",
    "labels = np.array([row['label'] for row in predictions])\n",
    "preds = np.array([row['prediction'] for row in predictions])\n",
    "\n",
    "# Mostrar 5 ejemplos aleatorios de las predicciones\n",
    "indices = np.random.choice(len(images), 25, replace=False)\n",
    "display_images(images[indices], labels[indices], preds[indices])"
   ]
  },
  {
   "attachments": {},
   "cell_type": "markdown",
   "id": "8d66c98c",
   "metadata": {},
   "source": [
    "# Referencias:\n",
    "\n",
    "* [ML Pipelines](https://spark.apache.org/docs/latest/ml-pipeline.html)\n",
    "* [Learning Spark](https://pages.databricks.com/202003-US-EB-Learning-Spark-2nd-Edition_01_Downloadpage.html) de Jules S. Damji, Brooke Wenig, Tathagata Das & Denny Lee, publicado por O’Reilly\n",
    "* [Meet the Spark MLlib’s Multilayer Perceptron Classifier (MLPC) — Hands-on\n",
    "](https://medium.com/analytics-vidhya/spark-mllibs-multilayer-perceptron-classifier-mlpc-hands-on-32ac4014eee9)\n",
    "* [MultilayerPerceptronClassifier](https://spark.apache.org/docs/latest/api/python/reference/api/pyspark.ml.classification.MultilayerPerceptronClassifier.html)\n",
    "* [PySpark Neural Network from Scratch](https://towardsdatascience.com/pyspark-neural-network-from-scratch-8a19ebad3904)\n",
    "* [Deep Learning with Apache Spark Part 1](https://towardsdatascience.com/deep-learning-with-apache-spark-part-1-6d397c16abd) & [Deep Learning with Apache Spark Part 2](https://towardsdatascience.com/deep-learning-with-apache-spark-part-2-2a2938a36d35)"
   ]
  }
 ],
 "metadata": {
  "kernelspec": {
   "display_name": "Python 3 (ipykernel)",
   "language": "python",
   "name": "python3"
  },
  "language_info": {
   "codemirror_mode": {
    "name": "ipython",
    "version": 3
   },
   "file_extension": ".py",
   "mimetype": "text/x-python",
   "name": "python",
   "nbconvert_exporter": "python",
   "pygments_lexer": "ipython3",
   "version": "3.9.17"
  }
 },
 "nbformat": 4,
 "nbformat_minor": 5
}
