{
 "cells": [
  {
   "cell_type": "code",
   "execution_count": null,
   "id": "9698d0be",
   "metadata": {
    "scrolled": true
   },
   "outputs": [],
   "source": [
    "import findspark\n",
    "findspark.init('/spark-3.5.1-bin-hadoop3')\n",
    "from pyspark import *\n",
    "from pyspark.sql import SparkSession, Row\n",
    "from pyspark.sql.types import StructType,StructField, StringType, IntegerType, DateType, TimestampType, LongType\n",
    "from pyspark.sql.types import ArrayType, DoubleType, BooleanType, DecimalType\n",
    "from pyspark.sql.functions import regexp_extract, split, from_unixtime, col, avg, min, max, desc\n",
    "from pyspark.sql.functions import grouping, explode, array_contains\n",
    "from pyspark.sql.functions import mean, stddev, skewness, kurtosis\n",
    "import matplotlib.pyplot as plt\n",
    "import pandas as pd\n",
    "import random\n",
    "\n",
    "\n",
    "spark = SparkSession.builder.appName(\"analytics\").getOrCreate()"
   ]
  },
  {
   "cell_type": "markdown",
   "id": "6d0b414e",
   "metadata": {},
   "source": [
    "# Análisis de Bitácoras\n",
    "\n",
    "## Generar las bitácoras\n",
    "\n",
    "Creamos un archivo de bitácora para un sitio web de ecommerce con visitas a 10 páginas de productos en formato Apache httpd. (Apache httpd logs)[https://httpd.apache.org/docs/2.4/logs.html]"
   ]
  },
  {
   "cell_type": "code",
   "execution_count": null,
   "id": "8b35b997",
   "metadata": {},
   "outputs": [],
   "source": [
    "from datetime import datetime, timedelta\n",
    "\n",
    "# Generar el archivo de bitácora\n",
    "num_entries = 100\n",
    "product_pages = [f\"/product/{i}\" for i in range(1, 11)]\n",
    "start_time = datetime(2024, 7, 18, 10, 0, 0)\n",
    "\n",
    "with open('ecommerce_log.txt', 'w') as log_file:\n",
    "    for _ in range(num_entries):\n",
    "        time_offset = timedelta(seconds=random.randint(0, 3600))\n",
    "        log_time = start_time + time_offset\n",
    "        log_time_str = log_time.strftime('%d/%b/%Y:%H:%M:%S +0000')\n",
    "        product_page = random.choice(product_pages)\n",
    "        response_time = random.randint(100, 5000)  \n",
    "        log_entry = f'127.0.0.1 - - [{log_time_str}] \"GET {product_page} HTTP/1.1\" 200 2326 {response_time}\\n'\n",
    "        log_file.write(log_entry)\n"
   ]
  },
  {
   "cell_type": "markdown",
   "id": "3d34572c",
   "metadata": {},
   "source": [
    "## Procesamiento de la bitácora\n",
    "\n",
    "Ahora procesamos la bitácora utilizando Spark"
   ]
  },
  {
   "cell_type": "code",
   "execution_count": null,
   "id": "ae6d6e5e",
   "metadata": {},
   "outputs": [],
   "source": [
    "# Cargar el archivo de bitácora que creamos anteriormente\n",
    "log_file = \"ecommerce_log.txt\"\n",
    "logs = spark.read.text(log_file)\n",
    "\n",
    "logs.show(5)"
   ]
  },
  {
   "cell_type": "code",
   "execution_count": null,
   "id": "b5e4102d",
   "metadata": {},
   "outputs": [],
   "source": [
    "# Definir patrones para extraer los campos de interés, incluyendo el tiempo de respuesta\n",
    "log_pattern = r'(\\d+\\.\\d+\\.\\d+\\.\\d+) - - \\[(.+)\\] \"GET (.+) HTTP/1\\.1\" (\\d+) (\\d+) (\\d+)'\n",
    "\n",
    "# Extraer los campos usando expresiones regulares\n",
    "logs_df = logs.select(\n",
    "    regexp_extract('value', log_pattern, 1).alias('ip'),\n",
    "    regexp_extract('value', log_pattern, 2).alias('timestamp'),\n",
    "    regexp_extract('value', log_pattern, 3).alias('request'),\n",
    "    regexp_extract('value', log_pattern, 4).alias('status'),\n",
    "    regexp_extract('value', log_pattern, 5).alias('bytes'),\n",
    "    regexp_extract('value', log_pattern, 6).alias('response_time').cast('int')\n",
    ")\n",
    "\n",
    "# Filtrar solo las solicitudes de productos\n",
    "product_logs_df = logs_df.filter(col('request').startswith('/product'))\n",
    "\n",
    "product_logs_df.show(5)"
   ]
  },
  {
   "cell_type": "code",
   "execution_count": null,
   "id": "145f24ba",
   "metadata": {},
   "outputs": [],
   "source": [
    "# Contar las visitas por producto y calcular el tiempo de respuesta promedio\n",
    "product_counts = product_logs_df.groupBy('request').agg(\n",
    "    {'*': 'count', 'response_time': 'avg'}\n",
    ").withColumnRenamed('count(1)', 'visit_count').withColumnRenamed('avg(response_time)', 'avg_response_time')\n",
    "\n",
    "# Mostrar el resultado\n",
    "product_counts.show()"
   ]
  },
  {
   "cell_type": "markdown",
   "id": "b37cd2c0",
   "metadata": {},
   "source": [
    "## Visualización de bitácoras"
   ]
  },
  {
   "cell_type": "code",
   "execution_count": null,
   "id": "1cbef552",
   "metadata": {},
   "outputs": [],
   "source": [
    "import matplotlib.pyplot as plt\n",
    "\n",
    "# Convertir los datos a Pandas para su visualización\n",
    "product_counts_pd = product_counts.toPandas()\n",
    "\n",
    "# Crear la gráfica de visitas por producto\n",
    "plt.figure(figsize=(12, 6))\n",
    "\n",
    "# Gráfico de barras para el número de visitas\n",
    "plt.subplot(1, 2, 1)\n",
    "plt.bar(product_counts_pd['request'], product_counts_pd['visit_count'], color='blue')\n",
    "plt.xlabel('Producto')\n",
    "plt.ylabel('Número de Visitas')\n",
    "plt.title('Visitas por Producto en el Sitio de Ecommerce')\n",
    "plt.xticks(rotation=45)\n",
    "\n"
   ]
  },
  {
   "cell_type": "code",
   "execution_count": null,
   "id": "860d924e",
   "metadata": {},
   "outputs": [],
   "source": [
    "# Gráfico de barras para el tiempo de respuesta promedio\n",
    "plt.subplot(1, 2, 2)\n",
    "plt.bar(product_counts_pd['request'], product_counts_pd['avg_response_time'], color='green')\n",
    "plt.xlabel('Producto')\n",
    "plt.ylabel('Tiempo de Respuesta Promedio (ms)')\n",
    "plt.title('Tiempo de Respuesta Promedio por Producto')\n",
    "plt.xticks(rotation=45)\n",
    "\n",
    "plt.tight_layout()\n",
    "plt.show()"
   ]
  },
  {
   "cell_type": "code",
   "execution_count": null,
   "id": "16d18f94",
   "metadata": {},
   "outputs": [],
   "source": [
    "# Convertir los datos a Pandas para su visualización\n",
    "logs_pd = product_logs_df.toPandas()\n",
    "\n",
    "# Convertir la columna de timestamp a formato datetime\n",
    "logs_pd['timestamp'] = pd.to_datetime(logs_pd['timestamp'], format='%d/%b/%Y:%H:%M:%S +0000')\n",
    "\n",
    "# Ordenar los datos por timestamp\n",
    "logs_pd = logs_pd.sort_values('timestamp')\n",
    "\n",
    "# Crear la gráfica de tiempo de respuesta en el tiempo\n",
    "plt.figure(figsize=(12, 6))\n",
    "plt.plot(logs_pd['timestamp'], logs_pd['response_time'], marker='o', linestyle='-', color='blue')\n",
    "plt.xlabel('Tiempo')\n",
    "plt.ylabel('Tiempo de Respuesta (ms)')\n",
    "plt.title('Tiempo de Respuesta del Servidor en el Tiempo')\n",
    "plt.xticks(rotation=45)\n",
    "plt.grid(True)\n",
    "plt.tight_layout()\n",
    "plt.show()"
   ]
  },
  {
   "cell_type": "code",
   "execution_count": null,
   "id": "b83cb90d",
   "metadata": {},
   "outputs": [],
   "source": []
  },
  {
   "cell_type": "code",
   "execution_count": null,
   "id": "3430b669",
   "metadata": {},
   "outputs": [],
   "source": []
  }
 ],
 "metadata": {
  "kernelspec": {
   "display_name": "Python 3 (ipykernel)",
   "language": "python",
   "name": "python3"
  },
  "language_info": {
   "codemirror_mode": {
    "name": "ipython",
    "version": 3
   },
   "file_extension": ".py",
   "mimetype": "text/x-python",
   "name": "python",
   "nbconvert_exporter": "python",
   "pygments_lexer": "ipython3",
   "version": "3.9.17"
  }
 },
 "nbformat": 4,
 "nbformat_minor": 5
}
