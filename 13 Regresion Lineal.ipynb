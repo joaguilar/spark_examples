{
 "cells": [
  {
   "cell_type": "code",
   "execution_count": null,
   "id": "9698d0be",
   "metadata": {
    "scrolled": true
   },
   "outputs": [],
   "source": [
    "import findspark\n",
    "findspark.init('/spark-3.5.1-bin-hadoop3')\n",
    "from pyspark import *\n",
    "from pyspark.sql import SparkSession, Row\n",
    "from pyspark.sql.types import StructType,StructField, StringType, IntegerType, DateType, TimestampType, LongType\n",
    "from pyspark.sql.types import ArrayType, DoubleType, BooleanType, DecimalType\n",
    "from pyspark.sql.functions import regexp_extract, split, from_unixtime, col, avg, min, max, desc\n",
    "from pyspark.sql.functions import grouping, explode, array_contains\n",
    "from pyspark.sql.functions import mean, stddev, skewness, kurtosis\n",
    "import matplotlib.pyplot as plt\n",
    "import pandas as pd\n",
    "import random\n",
    "\n",
    "\n",
    "spark = SparkSession.builder.appName(\"analytics\").getOrCreate()"
   ]
  },
  {
   "cell_type": "markdown",
   "id": "6804647d",
   "metadata": {},
   "source": [
    "# Regresión Lineal\n",
    "\n",
    "## Entrenamiento\n",
    "\n",
    "### Generación de Datos\n",
    "\n",
    "Primero generamos un conjunto de datos aleatorios que usaria Spark para entrenar el arbol de decisión\n",
    "\n",
    "Características del conjunto de datos:\n",
    "\n",
    "* Edad (entero): La edad del empleado.\n",
    "* Educación (entero): Nivel de educación codificado como 0 (secundaria), 1 (pregrado), 2 (postgrado).\n",
    "* Ingresos (flotante): Ingresos anuales del empleado en miles de dólares."
   ]
  },
  {
   "cell_type": "code",
   "execution_count": null,
   "id": "f9ea8237",
   "metadata": {},
   "outputs": [],
   "source": [
    "# Generar datos\n",
    "data = [\n",
    "    Row(edad=random.randint(20, 60),\n",
    "        educacion=random.choice([0, 1, 2]),\n",
    "        ingresos=(random.randint(20, 60) * 1000) + (random.choice([0, 1, 2]) * 10000))\n",
    "    for _ in range(300)\n",
    "]\n",
    "\n",
    "df = spark.createDataFrame(data)\n",
    "\n",
    "# Guardar los datos en CSV\n",
    "df.write.csv(\"datos_empleados.csv\", header=True, mode=\"overwrite\")\n",
    "\n",
    "df.show(5)"
   ]
  },
  {
   "cell_type": "markdown",
   "id": "b703a5a9",
   "metadata": {},
   "source": [
    "## Preparar los datos\n"
   ]
  },
  {
   "cell_type": "code",
   "execution_count": null,
   "id": "ac683b43",
   "metadata": {},
   "outputs": [],
   "source": [
    "from pyspark.ml.feature import VectorAssembler\n",
    "\n",
    "# Assembler para combinar las características en una sola columna de vectores\n",
    "assembler = VectorAssembler(\n",
    "    inputCols=[\"edad\", \"educacion\"],\n",
    "    outputCol=\"features\"\n",
    ")\n",
    "df_final = assembler.transform(df)\n",
    "df_final.select(\"features\", \"ingresos\").show(5)\n"
   ]
  },
  {
   "cell_type": "markdown",
   "id": "221402da",
   "metadata": {},
   "source": [
    "### Entrenar el modelo de regresión lineal\n"
   ]
  },
  {
   "cell_type": "code",
   "execution_count": null,
   "id": "ee07e527",
   "metadata": {},
   "outputs": [],
   "source": [
    "from pyspark.ml.regression import LinearRegression\n",
    "\n",
    "# Crear y entrenar el modelo de regresión lineal\n",
    "lr = LinearRegression(featuresCol=\"features\", labelCol=\"ingresos\")\n",
    "model = lr.fit(df_final)\n",
    "\n",
    "# Mostrar los coeficientes y el intercepto del modelo\n",
    "print(\"Coeficientes: \" + str(model.coefficients))\n",
    "print(\"Intercepto: \" + str(model.intercept))"
   ]
  },
  {
   "cell_type": "markdown",
   "id": "f2f39fbe",
   "metadata": {},
   "source": [
    "## Evaluar el modelo\n",
    "\n",
    "\n",
    "Para evaluar la efectividad de un modelo de regresión lineal, se utilizan varias métricas estadísticas, siendo el Error Cuadrático Medio (MSE, por sus siglas en inglés) una de las más comunes. El MSE mide el promedio de los cuadrados de los errores, es decir, la diferencia cuadrada entre los valores observados y los valores predichos por el modelo. Un MSE menor indica un mejor ajuste del modelo a los datos, ya que sugiere que las predicciones están más cercanas a los valores reales. Esta métrica es especialmente útil para comparar diferentes modelos o configuraciones del mismo modelo, ya que proporciona un indicador claro de mejora o deterioro en el rendimiento del modelo.\n",
    "\n",
    "Otra métrica crucial es el Coeficiente de Determinación, conocido como `R^2`, que proporciona una medida de cuán bien los resultados observados son replicados por el modelo, basado en la proporción de la varianza total de los datos explicada por el modelo. El `R^2` es un número entre 0 y 1, donde un valor más alto indica que el modelo explica una mayor proporción de la variación en los datos, relacionándose esto con un mejor ajuste del modelo. Un `R^2` de 1 indica que el modelo ajusta perfectamente los datos con respecto a la variable dependiente. Sin embargo, un valor alto de `R^2` no siempre es sinónimo de un modelo predictivo efectivo, especialmente en casos donde la linealidad de los datos es cuestionable o cuando el modelo está sobreajustado."
   ]
  },
  {
   "cell_type": "code",
   "execution_count": null,
   "id": "d5d3fa19",
   "metadata": {},
   "outputs": [],
   "source": [
    "# Evaluar el modelo en el conjunto de entrenamiento\n",
    "evaluation_summary = model.evaluate(df_final)\n",
    "\n",
    "print(\"Error cuadrático medio (MSE):\", evaluation_summary.meanSquaredError)\n",
    "print(\"Coeficiente de determinación (R^2):\", evaluation_summary.r2)\n"
   ]
  },
  {
   "cell_type": "code",
   "execution_count": null,
   "id": "62f32e68",
   "metadata": {},
   "outputs": [],
   "source": []
  }
 ],
 "metadata": {
  "kernelspec": {
   "display_name": "Python 3 (ipykernel)",
   "language": "python",
   "name": "python3"
  },
  "language_info": {
   "codemirror_mode": {
    "name": "ipython",
    "version": 3
   },
   "file_extension": ".py",
   "mimetype": "text/x-python",
   "name": "python",
   "nbconvert_exporter": "python",
   "pygments_lexer": "ipython3",
   "version": "3.9.17"
  }
 },
 "nbformat": 4,
 "nbformat_minor": 5
}
