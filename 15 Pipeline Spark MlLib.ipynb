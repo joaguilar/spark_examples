{
 "cells": [
  {
   "cell_type": "code",
   "execution_count": null,
   "id": "9698d0be",
   "metadata": {
    "scrolled": true
   },
   "outputs": [],
   "source": [
    "import findspark\n",
    "findspark.init('/spark-3.5.1-bin-hadoop3')\n",
    "from pyspark import *\n",
    "from pyspark.sql import SparkSession, Row\n",
    "from pyspark.sql.types import StructType,StructField, StringType, IntegerType, DateType, TimestampType, LongType\n",
    "from pyspark.sql.types import ArrayType, DoubleType, BooleanType, DecimalType\n",
    "from pyspark.sql.functions import regexp_extract, split, from_unixtime, col, avg, min, max, desc, isnan, when, count\n",
    "from pyspark.sql.functions import grouping, explode, array_contains\n",
    "from pyspark.sql.functions import mean, stddev, skewness, kurtosis\n",
    "from pyspark.ml import Pipeline\n",
    "from pyspark.ml.feature import VectorAssembler, StringIndexer, OneHotEncoder, Normalizer, Imputer\n",
    "from pyspark.ml.regression import RandomForestRegressor\n",
    "from pyspark.ml.evaluation import RegressionEvaluator\n",
    "import matplotlib.pyplot as plt\n",
    "import pandas as pd\n",
    "import random\n",
    "\n",
    "\n",
    "spark = SparkSession.builder.appName(\"analytics\").getOrCreate()"
   ]
  },
  {
   "cell_type": "markdown",
   "id": "6804647d",
   "metadata": {},
   "source": [
    "# Pipelines de Spark MlLib\n",
    "\n",
    "![Pipeline Spark MlLib](pipeline.png)\n",
    "\n",
    "## Ingestión de Datos:\n",
    "\n",
    "Los datos se cargan en un DataFrame."
   ]
  },
  {
   "cell_type": "code",
   "execution_count": null,
   "id": "f9ea8237",
   "metadata": {},
   "outputs": [],
   "source": [
    "# Cargar el conjunto de datos\n",
    "data_path = \"data/sf-airbnb-clean.parquet\"\n",
    "df = spark.read.parquet(data_path, header=True, inferSchema=True)"
   ]
  },
  {
   "cell_type": "markdown",
   "id": "4c62c0e2",
   "metadata": {},
   "source": [
    "## Exploración de Datos:\n",
    "\n",
    "* df.describe(): Proporciona un resumen estadístico de los datos.\n",
    "* df.show(): Muestra las primeras filas del DataFrame para inspección visual.\n"
   ]
  },
  {
   "cell_type": "code",
   "execution_count": null,
   "id": "7edb55b3",
   "metadata": {},
   "outputs": [],
   "source": [
    "# Exploración de datos\n",
    "#Utilizamos dos columnas de lo contrario es ilegible\n",
    "df.select(\"bedrooms\",\"review_scores_rating\").describe().show()"
   ]
  },
  {
   "cell_type": "code",
   "execution_count": null,
   "id": "19a04ee1",
   "metadata": {},
   "outputs": [],
   "source": [
    "# Exploración de datos\n",
    "df.select(\n",
    "    [count(when(isnan(c), c)).alias(c) for c in df.columns]\n",
    ").show()"
   ]
  },
  {
   "cell_type": "code",
   "execution_count": null,
   "id": "7e4e7213",
   "metadata": {},
   "outputs": [],
   "source": [
    "# Exploración de datos\n",
    "df.show(5)"
   ]
  },
  {
   "cell_type": "markdown",
   "id": "b703a5a9",
   "metadata": {},
   "source": [
    "## Limpieza de Datos\n",
    "\n",
    "* df.dropna(): Elimina filas con valores nulos para asegurar la integridad de los datos.\n",
    "* df.fillna(): Rellena valores nulos con un valor específico, como la mediana o media de la columna.\n",
    "\n",
    "## Imputación de Valores Faltantes\n",
    "\n",
    "* [Imputer](https://spark.apache.org/docs/3.1.2/api/python/reference/api/pyspark.ml.feature.Imputer.html): Sustituye valores faltantes en las columnas seleccionadas con la mediana o media de la columna."
   ]
  },
  {
   "cell_type": "code",
   "execution_count": null,
   "id": "ac683b43",
   "metadata": {},
   "outputs": [],
   "source": [
    "# Limpieza de datos\n",
    "df = df.dropna(how=\"any\")\n",
    "\n",
    "# Imputación de valores faltantes\n",
    "imputer = Imputer(inputCols=[\"bedrooms\", \"bathrooms\", \"beds\", \"review_scores_rating\", \n",
    "                             \"review_scores_accuracy\", \"review_scores_cleanliness\", \n",
    "                             \"review_scores_checkin\", \"review_scores_communication\", \n",
    "                             \"review_scores_location\", \"review_scores_value\"],\n",
    "                  outputCols=[\"bedrooms_imputed\", \"bathrooms_imputed\", \"beds_imputed\", \n",
    "                              \"review_scores_rating_imputed\", \"review_scores_accuracy_imputed\", \n",
    "                              \"review_scores_cleanliness_imputed\", \"review_scores_checkin_imputed\", \n",
    "                              \"review_scores_communication_imputed\", \"review_scores_location_imputed\", \n",
    "                              \"review_scores_value_imputed\"]).setStrategy(\"median\")\n",
    "df = imputer.fit(df).transform(df)\n",
    "\n",
    "\n",
    "df.show(5)"
   ]
  },
  {
   "cell_type": "markdown",
   "id": "11746eba",
   "metadata": {},
   "source": [
    "## StringIndexer\n",
    "\n",
    "Convierte cadenas de caracteres en índices numéricos, facilitando la manipulación de datos categóricos."
   ]
  },
  {
   "cell_type": "code",
   "execution_count": null,
   "id": "b7e6f6a1",
   "metadata": {},
   "outputs": [],
   "source": [
    "# Transformaciones categóricas\n",
    "indexer_host_is_superhost = StringIndexer(inputCol=\"host_is_superhost\", outputCol=\"host_is_superhost_indexed\")\n",
    "indexer_cancellation_policy = StringIndexer(inputCol=\"cancellation_policy\", outputCol=\"cancellation_policy_indexed\")\n",
    "indexer_instant_bookable = StringIndexer(inputCol=\"instant_bookable\", outputCol=\"instant_bookable_indexed\")\n",
    "indexer_neighbourhood_cleansed = StringIndexer(inputCol=\"neighbourhood_cleansed\", outputCol=\"neighbourhood_cleansed_indexed\")\n",
    "indexer_property_type = StringIndexer(inputCol=\"property_type\", outputCol=\"property_type_indexed\")\n",
    "indexer_room_type = StringIndexer(inputCol=\"room_type\", outputCol=\"room_type_indexed\")\n",
    "indexer_bed_type = StringIndexer(inputCol=\"bed_type\", outputCol=\"bed_type_indexed\")\n"
   ]
  },
  {
   "cell_type": "markdown",
   "id": "b6be2c63",
   "metadata": {},
   "source": [
    "## OneHotEncoder\n",
    "\n",
    "Convierte variables categóricas en una representación numérica, lo que es crucial para el procesamiento de modelos de ML."
   ]
  },
  {
   "cell_type": "code",
   "execution_count": null,
   "id": "fe674f6d",
   "metadata": {},
   "outputs": [],
   "source": [
    "encoder_host_is_superhost = OneHotEncoder(inputCol=\"host_is_superhost_indexed\", outputCol=\"host_is_superhost_encoded\")\n",
    "encoder_cancellation_policy = OneHotEncoder(inputCol=\"cancellation_policy_indexed\", outputCol=\"cancellation_policy_encoded\")\n",
    "encoder_instant_bookable = OneHotEncoder(inputCol=\"instant_bookable_indexed\", outputCol=\"instant_bookable_encoded\")\n",
    "encoder_neighbourhood_cleansed = OneHotEncoder(inputCol=\"neighbourhood_cleansed_indexed\", outputCol=\"neighbourhood_cleansed_encoded\")\n",
    "encoder_property_type = OneHotEncoder(inputCol=\"property_type_indexed\", outputCol=\"property_type_encoded\")\n",
    "encoder_room_type = OneHotEncoder(inputCol=\"room_type_indexed\", outputCol=\"room_type_encoded\")\n",
    "encoder_bed_type = OneHotEncoder(inputCol=\"bed_type_indexed\", outputCol=\"bed_type_encoded\")"
   ]
  },
  {
   "cell_type": "markdown",
   "id": "1a5dc2de",
   "metadata": {},
   "source": [
    "## VectorAssembler\n",
    "\n",
    "Combina varias columnas de características en un solo vector de características, esencial para el entrenamiento del modelo."
   ]
  },
  {
   "cell_type": "code",
   "execution_count": null,
   "id": "09b38efe",
   "metadata": {},
   "outputs": [],
   "source": [
    "# VectorAssembler para combinar todas las características\n",
    "assembler = VectorAssembler(inputCols=[\"bedrooms_imputed\", \"bathrooms_imputed\", \"beds_imputed\", \n",
    "                                       \"review_scores_rating_imputed\", \"review_scores_accuracy_imputed\", \n",
    "                                       \"review_scores_cleanliness_imputed\", \"review_scores_checkin_imputed\", \n",
    "                                       \"review_scores_communication_imputed\", \"review_scores_location_imputed\", \n",
    "                                       \"review_scores_value_imputed\", \"host_total_listings_count\", \n",
    "                                       \"latitude\", \"longitude\", \"accommodates\", \"minimum_nights\", \n",
    "                                       \"number_of_reviews\", \"host_is_superhost_encoded\", \n",
    "                                       \"cancellation_policy_encoded\", \"instant_bookable_encoded\", \n",
    "                                       \"neighbourhood_cleansed_encoded\", \"property_type_encoded\", \n",
    "                                       \"room_type_encoded\", \"bed_type_encoded\"],\n",
    "                            outputCol=\"features\")"
   ]
  },
  {
   "cell_type": "markdown",
   "id": "9c036261",
   "metadata": {},
   "source": [
    "## Normalizer\n",
    "\n",
    "Normaliza los datos, ajustando los valores de las características a una escala común sin distorsionar las diferencias en los rangos de valores."
   ]
  },
  {
   "cell_type": "code",
   "execution_count": null,
   "id": "2fe37463",
   "metadata": {},
   "outputs": [],
   "source": [
    "normalizer = Normalizer(inputCol=\"features\", outputCol=\"normFeatures\")\n"
   ]
  },
  {
   "cell_type": "markdown",
   "id": "d134cdd7",
   "metadata": {},
   "source": [
    "## RandomForestRegressor\n",
    "\n",
    "Entrena el modelo utilizando el algoritmo de Random Forest, ideal para tareas de regresión debido a su capacidad para manejar grandes conjuntos de datos y su robustez frente a datos ruidosos."
   ]
  },
  {
   "cell_type": "code",
   "execution_count": null,
   "id": "d122eff0",
   "metadata": {},
   "outputs": [],
   "source": [
    "rf = RandomForestRegressor(featuresCol=\"normFeatures\", labelCol=\"price\")"
   ]
  },
  {
   "cell_type": "markdown",
   "id": "fe831b5d",
   "metadata": {},
   "source": [
    "## Creación del Pipeline\n",
    "\n"
   ]
  },
  {
   "cell_type": "code",
   "execution_count": null,
   "id": "8794ea8a",
   "metadata": {},
   "outputs": [],
   "source": [
    "# Crear el pipeline\n",
    "pipeline = Pipeline(stages=[imputer, indexer_host_is_superhost, indexer_cancellation_policy, \n",
    "                            indexer_instant_bookable, indexer_neighbourhood_cleansed, indexer_property_type, \n",
    "                            indexer_room_type, indexer_bed_type, encoder_host_is_superhost, encoder_cancellation_policy, \n",
    "                            encoder_instant_bookable, encoder_neighbourhood_cleansed, encoder_property_type, \n",
    "                            encoder_room_type, encoder_bed_type, assembler, normalizer, rf])\n"
   ]
  },
  {
   "cell_type": "markdown",
   "id": "712070a9",
   "metadata": {},
   "source": [
    "## Entrenamiento del modelo"
   ]
  },
  {
   "cell_type": "code",
   "execution_count": null,
   "id": "45434421",
   "metadata": {},
   "outputs": [],
   "source": [
    "# Dividir los datos en conjuntos de entrenamiento y prueba\n",
    "train_data, test_data = df.randomSplit([0.8, 0.2])\n",
    "\n",
    "# Ajustar el modelo\n",
    "model = pipeline.fit(train_data)"
   ]
  },
  {
   "cell_type": "markdown",
   "id": "17170822",
   "metadata": {},
   "source": [
    "## Evaluación del modelo"
   ]
  },
  {
   "cell_type": "code",
   "execution_count": null,
   "id": "be8eb832",
   "metadata": {},
   "outputs": [],
   "source": [
    "# Hacer predicciones\n",
    "predictions = model.transform(test_data)\n",
    "\n",
    "# Evaluar el modelo\n",
    "evaluator = RegressionEvaluator(labelCol=\"price\", predictionCol=\"prediction\", metricName=\"rmse\")\n",
    "rmse = evaluator.evaluate(predictions)\n",
    "print(f\"Root Mean Squared Error (RMSE) en el conjunto de prueba: {rmse}\")\n"
   ]
  },
  {
   "cell_type": "code",
   "execution_count": null,
   "id": "09f42a33",
   "metadata": {},
   "outputs": [],
   "source": []
  }
 ],
 "metadata": {
  "kernelspec": {
   "display_name": "Python 3 (ipykernel)",
   "language": "python",
   "name": "python3"
  },
  "language_info": {
   "codemirror_mode": {
    "name": "ipython",
    "version": 3
   },
   "file_extension": ".py",
   "mimetype": "text/x-python",
   "name": "python",
   "nbconvert_exporter": "python",
   "pygments_lexer": "ipython3",
   "version": "3.9.17"
  }
 },
 "nbformat": 4,
 "nbformat_minor": 5
}
